{
  "nbformat": 4,
  "nbformat_minor": 0,
  "metadata": {
    "kernelspec": {
      "display_name": "Python 3",
      "language": "python",
      "name": "python3"
    },
    "language_info": {
      "codemirror_mode": {
        "name": "ipython",
        "version": 3
      },
      "file_extension": ".py",
      "mimetype": "text/x-python",
      "name": "python",
      "nbconvert_exporter": "python",
      "pygments_lexer": "ipython3",
      "version": "3.8.5"
    },
    "colab": {
      "name": "Task-5.ipynb",
      "provenance": [],
      "include_colab_link": true
    }
  },
  "cells": [
    {
      "cell_type": "markdown",
      "metadata": {
        "id": "view-in-github",
        "colab_type": "text"
      },
      "source": [
        "<a href=\"https://colab.research.google.com/github/saikumar28102000/THE-SPARK-FOUNDATION/blob/main/Task_5.ipynb\" target=\"_parent\"><img src=\"https://colab.research.google.com/assets/colab-badge.svg\" alt=\"Open In Colab\"/></a>"
      ]
    },
    {
      "cell_type": "markdown",
      "metadata": {
        "id": "atXgR48WQnYC"
      },
      "source": [
        " ## Data Science and Business Analytics Intern @ The Sparks Foundation\n",
        "\n",
        "#gripfeb21\n"
      ]
    },
    {
      "cell_type": "markdown",
      "metadata": {
        "id": "fml9b5WNQnYI"
      },
      "source": [
        "### Author: SAI KUMAR T S"
      ]
    },
    {
      "cell_type": "markdown",
      "metadata": {
        "id": "5HbbliG3QnYJ"
      },
      "source": [
        "### Task 5: Exploratory Data Analysis- Sports"
      ]
    },
    {
      "cell_type": "markdown",
      "metadata": {
        "id": "1FBNEwurQnYJ"
      },
      "source": [
        "Problem Statement 1: Perform ‘Exploratory Data Analysis’ on dataset ‘Indian Premier League’.\n",
        "\n",
        "Problem Statement 2: As a sports analysts, find out the most successful teams, players and factors contributing win or loss of a team.\n",
        "\n",
        "Problem Statement 3: Suggest teams or players a company should endorse for its products.¶"
      ]
    },
    {
      "cell_type": "markdown",
      "metadata": {
        "id": "ccF1qcO5QnYJ"
      },
      "source": [
        "##### Data Import and Pre-processing"
      ]
    },
    {
      "cell_type": "code",
      "metadata": {
        "id": "JZmsZU1XQnYK"
      },
      "source": [
        "import pandas as pd\n",
        "import numpy as np                     # For mathematical calculations\n",
        "import seaborn as sns                  # For data visualization\n",
        "import matplotlib.pyplot as plt        #For plotting graphs\n",
        "%matplotlib inline                    \n",
        "import warnings                        # To ignore any warnings\n",
        "warnings.filterwarnings(\"ignore\")"
      ],
      "execution_count": null,
      "outputs": []
    },
    {
      "cell_type": "markdown",
      "metadata": {
        "id": "_ehwEq0JQnYK"
      },
      "source": [
        "##### Import the dataset \"matches.csv\""
      ]
    },
    {
      "cell_type": "code",
      "metadata": {
        "scrolled": true,
        "id": "fj3jrvdgQnYK",
        "outputId": "9bc1a13e-2f1d-4373-fff1-ce68243c2b77"
      },
      "source": [
        "# loading the data\n",
        "matches=pd.read_csv('matches.csv')\n",
        "matches.head()"
      ],
      "execution_count": null,
      "outputs": [
        {
          "output_type": "execute_result",
          "data": {
            "text/html": [
              "<div>\n",
              "<style scoped>\n",
              "    .dataframe tbody tr th:only-of-type {\n",
              "        vertical-align: middle;\n",
              "    }\n",
              "\n",
              "    .dataframe tbody tr th {\n",
              "        vertical-align: top;\n",
              "    }\n",
              "\n",
              "    .dataframe thead th {\n",
              "        text-align: right;\n",
              "    }\n",
              "</style>\n",
              "<table border=\"1\" class=\"dataframe\">\n",
              "  <thead>\n",
              "    <tr style=\"text-align: right;\">\n",
              "      <th></th>\n",
              "      <th>id</th>\n",
              "      <th>season</th>\n",
              "      <th>city</th>\n",
              "      <th>date</th>\n",
              "      <th>team1</th>\n",
              "      <th>team2</th>\n",
              "      <th>toss_winner</th>\n",
              "      <th>toss_decision</th>\n",
              "      <th>result</th>\n",
              "      <th>dl_applied</th>\n",
              "      <th>winner</th>\n",
              "      <th>win_by_runs</th>\n",
              "      <th>win_by_wickets</th>\n",
              "      <th>player_of_match</th>\n",
              "      <th>venue</th>\n",
              "      <th>umpire1</th>\n",
              "      <th>umpire2</th>\n",
              "      <th>umpire3</th>\n",
              "    </tr>\n",
              "  </thead>\n",
              "  <tbody>\n",
              "    <tr>\n",
              "      <th>0</th>\n",
              "      <td>1</td>\n",
              "      <td>2017</td>\n",
              "      <td>Hyderabad</td>\n",
              "      <td>2017-04-05</td>\n",
              "      <td>Sunrisers Hyderabad</td>\n",
              "      <td>Royal Challengers Bangalore</td>\n",
              "      <td>Royal Challengers Bangalore</td>\n",
              "      <td>field</td>\n",
              "      <td>normal</td>\n",
              "      <td>0</td>\n",
              "      <td>Sunrisers Hyderabad</td>\n",
              "      <td>35</td>\n",
              "      <td>0</td>\n",
              "      <td>Yuvraj Singh</td>\n",
              "      <td>Rajiv Gandhi International Stadium, Uppal</td>\n",
              "      <td>AY Dandekar</td>\n",
              "      <td>NJ Llong</td>\n",
              "      <td>NaN</td>\n",
              "    </tr>\n",
              "    <tr>\n",
              "      <th>1</th>\n",
              "      <td>2</td>\n",
              "      <td>2017</td>\n",
              "      <td>Pune</td>\n",
              "      <td>2017-04-06</td>\n",
              "      <td>Mumbai Indians</td>\n",
              "      <td>Rising Pune Supergiant</td>\n",
              "      <td>Rising Pune Supergiant</td>\n",
              "      <td>field</td>\n",
              "      <td>normal</td>\n",
              "      <td>0</td>\n",
              "      <td>Rising Pune Supergiant</td>\n",
              "      <td>0</td>\n",
              "      <td>7</td>\n",
              "      <td>SPD Smith</td>\n",
              "      <td>Maharashtra Cricket Association Stadium</td>\n",
              "      <td>A Nand Kishore</td>\n",
              "      <td>S Ravi</td>\n",
              "      <td>NaN</td>\n",
              "    </tr>\n",
              "    <tr>\n",
              "      <th>2</th>\n",
              "      <td>3</td>\n",
              "      <td>2017</td>\n",
              "      <td>Rajkot</td>\n",
              "      <td>2017-04-07</td>\n",
              "      <td>Gujarat Lions</td>\n",
              "      <td>Kolkata Knight Riders</td>\n",
              "      <td>Kolkata Knight Riders</td>\n",
              "      <td>field</td>\n",
              "      <td>normal</td>\n",
              "      <td>0</td>\n",
              "      <td>Kolkata Knight Riders</td>\n",
              "      <td>0</td>\n",
              "      <td>10</td>\n",
              "      <td>CA Lynn</td>\n",
              "      <td>Saurashtra Cricket Association Stadium</td>\n",
              "      <td>Nitin Menon</td>\n",
              "      <td>CK Nandan</td>\n",
              "      <td>NaN</td>\n",
              "    </tr>\n",
              "    <tr>\n",
              "      <th>3</th>\n",
              "      <td>4</td>\n",
              "      <td>2017</td>\n",
              "      <td>Indore</td>\n",
              "      <td>2017-04-08</td>\n",
              "      <td>Rising Pune Supergiant</td>\n",
              "      <td>Kings XI Punjab</td>\n",
              "      <td>Kings XI Punjab</td>\n",
              "      <td>field</td>\n",
              "      <td>normal</td>\n",
              "      <td>0</td>\n",
              "      <td>Kings XI Punjab</td>\n",
              "      <td>0</td>\n",
              "      <td>6</td>\n",
              "      <td>GJ Maxwell</td>\n",
              "      <td>Holkar Cricket Stadium</td>\n",
              "      <td>AK Chaudhary</td>\n",
              "      <td>C Shamshuddin</td>\n",
              "      <td>NaN</td>\n",
              "    </tr>\n",
              "    <tr>\n",
              "      <th>4</th>\n",
              "      <td>5</td>\n",
              "      <td>2017</td>\n",
              "      <td>Bangalore</td>\n",
              "      <td>2017-04-08</td>\n",
              "      <td>Royal Challengers Bangalore</td>\n",
              "      <td>Delhi Daredevils</td>\n",
              "      <td>Royal Challengers Bangalore</td>\n",
              "      <td>bat</td>\n",
              "      <td>normal</td>\n",
              "      <td>0</td>\n",
              "      <td>Royal Challengers Bangalore</td>\n",
              "      <td>15</td>\n",
              "      <td>0</td>\n",
              "      <td>KM Jadhav</td>\n",
              "      <td>M Chinnaswamy Stadium</td>\n",
              "      <td>NaN</td>\n",
              "      <td>NaN</td>\n",
              "      <td>NaN</td>\n",
              "    </tr>\n",
              "  </tbody>\n",
              "</table>\n",
              "</div>"
            ],
            "text/plain": [
              "   id  season       city        date                        team1  \\\n",
              "0   1    2017  Hyderabad  2017-04-05          Sunrisers Hyderabad   \n",
              "1   2    2017       Pune  2017-04-06               Mumbai Indians   \n",
              "2   3    2017     Rajkot  2017-04-07                Gujarat Lions   \n",
              "3   4    2017     Indore  2017-04-08       Rising Pune Supergiant   \n",
              "4   5    2017  Bangalore  2017-04-08  Royal Challengers Bangalore   \n",
              "\n",
              "                         team2                  toss_winner toss_decision  \\\n",
              "0  Royal Challengers Bangalore  Royal Challengers Bangalore         field   \n",
              "1       Rising Pune Supergiant       Rising Pune Supergiant         field   \n",
              "2        Kolkata Knight Riders        Kolkata Knight Riders         field   \n",
              "3              Kings XI Punjab              Kings XI Punjab         field   \n",
              "4             Delhi Daredevils  Royal Challengers Bangalore           bat   \n",
              "\n",
              "   result  dl_applied                       winner  win_by_runs  \\\n",
              "0  normal           0          Sunrisers Hyderabad           35   \n",
              "1  normal           0       Rising Pune Supergiant            0   \n",
              "2  normal           0        Kolkata Knight Riders            0   \n",
              "3  normal           0              Kings XI Punjab            0   \n",
              "4  normal           0  Royal Challengers Bangalore           15   \n",
              "\n",
              "   win_by_wickets player_of_match                                      venue  \\\n",
              "0               0    Yuvraj Singh  Rajiv Gandhi International Stadium, Uppal   \n",
              "1               7       SPD Smith    Maharashtra Cricket Association Stadium   \n",
              "2              10         CA Lynn     Saurashtra Cricket Association Stadium   \n",
              "3               6      GJ Maxwell                     Holkar Cricket Stadium   \n",
              "4               0       KM Jadhav                      M Chinnaswamy Stadium   \n",
              "\n",
              "          umpire1        umpire2 umpire3  \n",
              "0     AY Dandekar       NJ Llong     NaN  \n",
              "1  A Nand Kishore         S Ravi     NaN  \n",
              "2     Nitin Menon      CK Nandan     NaN  \n",
              "3    AK Chaudhary  C Shamshuddin     NaN  \n",
              "4             NaN            NaN     NaN  "
            ]
          },
          "metadata": {
            "tags": []
          },
          "execution_count": 2
        }
      ]
    },
    {
      "cell_type": "code",
      "metadata": {
        "id": "54-nlfiKQnYL",
        "outputId": "04720475-09f1-43f6-a796-d9bb8bef0e6e"
      },
      "source": [
        "#To show total rows and columns\n",
        "matches.shape"
      ],
      "execution_count": null,
      "outputs": [
        {
          "output_type": "execute_result",
          "data": {
            "text/plain": [
              "(756, 18)"
            ]
          },
          "metadata": {
            "tags": []
          },
          "execution_count": 3
        }
      ]
    },
    {
      "cell_type": "code",
      "metadata": {
        "id": "SZTqIykiQnYL"
      },
      "source": [
        "#dropping not necessary columns\n",
        "matches.drop(['umpire1','umpire2','umpire3'],axis=1,inplace=True)"
      ],
      "execution_count": null,
      "outputs": []
    },
    {
      "cell_type": "code",
      "metadata": {
        "id": "eKEnDtKtQnYM",
        "outputId": "cb7852f0-c530-4c39-cfb7-76a6c73b17db"
      },
      "source": [
        "#Data Type\n",
        "matches.dtypes"
      ],
      "execution_count": null,
      "outputs": [
        {
          "output_type": "execute_result",
          "data": {
            "text/plain": [
              "id                  int64\n",
              "season              int64\n",
              "city               object\n",
              "date               object\n",
              "team1              object\n",
              "team2              object\n",
              "toss_winner        object\n",
              "toss_decision      object\n",
              "result             object\n",
              "dl_applied          int64\n",
              "winner             object\n",
              "win_by_runs         int64\n",
              "win_by_wickets      int64\n",
              "player_of_match    object\n",
              "venue              object\n",
              "dtype: object"
            ]
          },
          "metadata": {
            "tags": []
          },
          "execution_count": 5
        }
      ]
    },
    {
      "cell_type": "code",
      "metadata": {
        "id": "iaJAp12NQnYM",
        "outputId": "4bae682d-7ca9-4709-fcba-de43d030da29"
      },
      "source": [
        "# To check any Null Values\n",
        "matches.isnull().sum()"
      ],
      "execution_count": null,
      "outputs": [
        {
          "output_type": "execute_result",
          "data": {
            "text/plain": [
              "id                 0\n",
              "season             0\n",
              "city               7\n",
              "date               0\n",
              "team1              0\n",
              "team2              0\n",
              "toss_winner        0\n",
              "toss_decision      0\n",
              "result             0\n",
              "dl_applied         0\n",
              "winner             4\n",
              "win_by_runs        0\n",
              "win_by_wickets     0\n",
              "player_of_match    4\n",
              "venue              0\n",
              "dtype: int64"
            ]
          },
          "metadata": {
            "tags": []
          },
          "execution_count": 6
        }
      ]
    },
    {
      "cell_type": "code",
      "metadata": {
        "id": "IUVB6ydTQnYM",
        "outputId": "42e10237-28dd-4e8e-d94e-8114bedb511a"
      },
      "source": [
        "# To check any duplicate rows\n",
        "matches.duplicated().sum()"
      ],
      "execution_count": null,
      "outputs": [
        {
          "output_type": "execute_result",
          "data": {
            "text/plain": [
              "0"
            ]
          },
          "metadata": {
            "tags": []
          },
          "execution_count": 9
        }
      ]
    },
    {
      "cell_type": "code",
      "metadata": {
        "id": "fgB8rLzdQnYM",
        "outputId": "5fa53481-4ac7-4066-dd08-503b2910b73f"
      },
      "source": [
        "# Statistical Details \n",
        "matches.describe()"
      ],
      "execution_count": null,
      "outputs": [
        {
          "output_type": "execute_result",
          "data": {
            "text/html": [
              "<div>\n",
              "<style scoped>\n",
              "    .dataframe tbody tr th:only-of-type {\n",
              "        vertical-align: middle;\n",
              "    }\n",
              "\n",
              "    .dataframe tbody tr th {\n",
              "        vertical-align: top;\n",
              "    }\n",
              "\n",
              "    .dataframe thead th {\n",
              "        text-align: right;\n",
              "    }\n",
              "</style>\n",
              "<table border=\"1\" class=\"dataframe\">\n",
              "  <thead>\n",
              "    <tr style=\"text-align: right;\">\n",
              "      <th></th>\n",
              "      <th>id</th>\n",
              "      <th>season</th>\n",
              "      <th>dl_applied</th>\n",
              "      <th>win_by_runs</th>\n",
              "      <th>win_by_wickets</th>\n",
              "    </tr>\n",
              "  </thead>\n",
              "  <tbody>\n",
              "    <tr>\n",
              "      <th>count</th>\n",
              "      <td>756.000000</td>\n",
              "      <td>756.000000</td>\n",
              "      <td>756.000000</td>\n",
              "      <td>756.000000</td>\n",
              "      <td>756.000000</td>\n",
              "    </tr>\n",
              "    <tr>\n",
              "      <th>mean</th>\n",
              "      <td>1792.178571</td>\n",
              "      <td>2013.444444</td>\n",
              "      <td>0.025132</td>\n",
              "      <td>13.283069</td>\n",
              "      <td>3.350529</td>\n",
              "    </tr>\n",
              "    <tr>\n",
              "      <th>std</th>\n",
              "      <td>3464.478148</td>\n",
              "      <td>3.366895</td>\n",
              "      <td>0.156630</td>\n",
              "      <td>23.471144</td>\n",
              "      <td>3.387963</td>\n",
              "    </tr>\n",
              "    <tr>\n",
              "      <th>min</th>\n",
              "      <td>1.000000</td>\n",
              "      <td>2008.000000</td>\n",
              "      <td>0.000000</td>\n",
              "      <td>0.000000</td>\n",
              "      <td>0.000000</td>\n",
              "    </tr>\n",
              "    <tr>\n",
              "      <th>25%</th>\n",
              "      <td>189.750000</td>\n",
              "      <td>2011.000000</td>\n",
              "      <td>0.000000</td>\n",
              "      <td>0.000000</td>\n",
              "      <td>0.000000</td>\n",
              "    </tr>\n",
              "    <tr>\n",
              "      <th>50%</th>\n",
              "      <td>378.500000</td>\n",
              "      <td>2013.000000</td>\n",
              "      <td>0.000000</td>\n",
              "      <td>0.000000</td>\n",
              "      <td>4.000000</td>\n",
              "    </tr>\n",
              "    <tr>\n",
              "      <th>75%</th>\n",
              "      <td>567.250000</td>\n",
              "      <td>2016.000000</td>\n",
              "      <td>0.000000</td>\n",
              "      <td>19.000000</td>\n",
              "      <td>6.000000</td>\n",
              "    </tr>\n",
              "    <tr>\n",
              "      <th>max</th>\n",
              "      <td>11415.000000</td>\n",
              "      <td>2019.000000</td>\n",
              "      <td>1.000000</td>\n",
              "      <td>146.000000</td>\n",
              "      <td>10.000000</td>\n",
              "    </tr>\n",
              "  </tbody>\n",
              "</table>\n",
              "</div>"
            ],
            "text/plain": [
              "                 id       season  dl_applied  win_by_runs  win_by_wickets\n",
              "count    756.000000   756.000000  756.000000   756.000000      756.000000\n",
              "mean    1792.178571  2013.444444    0.025132    13.283069        3.350529\n",
              "std     3464.478148     3.366895    0.156630    23.471144        3.387963\n",
              "min        1.000000  2008.000000    0.000000     0.000000        0.000000\n",
              "25%      189.750000  2011.000000    0.000000     0.000000        0.000000\n",
              "50%      378.500000  2013.000000    0.000000     0.000000        4.000000\n",
              "75%      567.250000  2016.000000    0.000000    19.000000        6.000000\n",
              "max    11415.000000  2019.000000    1.000000   146.000000       10.000000"
            ]
          },
          "metadata": {
            "tags": []
          },
          "execution_count": 10
        }
      ]
    },
    {
      "cell_type": "code",
      "metadata": {
        "id": "NZF7WyxUQnYN",
        "outputId": "76f1941e-b869-44f4-dcc2-e255712e557d"
      },
      "source": [
        "#no.of distinct values\n",
        "matches.nunique()"
      ],
      "execution_count": null,
      "outputs": [
        {
          "output_type": "execute_result",
          "data": {
            "text/plain": [
              "id                 756\n",
              "season              12\n",
              "city                32\n",
              "date               546\n",
              "team1               15\n",
              "team2               15\n",
              "toss_winner         15\n",
              "toss_decision        2\n",
              "result               3\n",
              "dl_applied           2\n",
              "winner              15\n",
              "win_by_runs         89\n",
              "win_by_wickets      11\n",
              "player_of_match    226\n",
              "venue               41\n",
              "dtype: int64"
            ]
          },
          "metadata": {
            "tags": []
          },
          "execution_count": 11
        }
      ]
    },
    {
      "cell_type": "code",
      "metadata": {
        "id": "Np-fcMo-QnYN",
        "outputId": "f69f0583-d20a-4f5a-ce96-3f4c3ee1c9aa"
      },
      "source": [
        "matches.result.unique()"
      ],
      "execution_count": null,
      "outputs": [
        {
          "output_type": "execute_result",
          "data": {
            "text/plain": [
              "array(['normal', 'tie', 'no result'], dtype=object)"
            ]
          },
          "metadata": {
            "tags": []
          },
          "execution_count": 12
        }
      ]
    },
    {
      "cell_type": "markdown",
      "metadata": {
        "id": "tfce7G-oQnYN"
      },
      "source": [
        "##### Import the dataset \"deliveries.csv\""
      ]
    },
    {
      "cell_type": "code",
      "metadata": {
        "id": "9qi_MPaaQnYN",
        "outputId": "dfd78f73-477a-471d-b7c6-1ecb034368f5"
      },
      "source": [
        "# loading the data\n",
        "deliveries = pd.read_csv('deliveries.csv')\n",
        "deliveries.head()"
      ],
      "execution_count": null,
      "outputs": [
        {
          "output_type": "execute_result",
          "data": {
            "text/html": [
              "<div>\n",
              "<style scoped>\n",
              "    .dataframe tbody tr th:only-of-type {\n",
              "        vertical-align: middle;\n",
              "    }\n",
              "\n",
              "    .dataframe tbody tr th {\n",
              "        vertical-align: top;\n",
              "    }\n",
              "\n",
              "    .dataframe thead th {\n",
              "        text-align: right;\n",
              "    }\n",
              "</style>\n",
              "<table border=\"1\" class=\"dataframe\">\n",
              "  <thead>\n",
              "    <tr style=\"text-align: right;\">\n",
              "      <th></th>\n",
              "      <th>match_id</th>\n",
              "      <th>inning</th>\n",
              "      <th>batting_team</th>\n",
              "      <th>bowling_team</th>\n",
              "      <th>over</th>\n",
              "      <th>ball</th>\n",
              "      <th>batsman</th>\n",
              "      <th>non_striker</th>\n",
              "      <th>bowler</th>\n",
              "      <th>is_super_over</th>\n",
              "      <th>...</th>\n",
              "      <th>bye_runs</th>\n",
              "      <th>legbye_runs</th>\n",
              "      <th>noball_runs</th>\n",
              "      <th>penalty_runs</th>\n",
              "      <th>batsman_runs</th>\n",
              "      <th>extra_runs</th>\n",
              "      <th>total_runs</th>\n",
              "      <th>player_dismissed</th>\n",
              "      <th>dismissal_kind</th>\n",
              "      <th>fielder</th>\n",
              "    </tr>\n",
              "  </thead>\n",
              "  <tbody>\n",
              "    <tr>\n",
              "      <th>0</th>\n",
              "      <td>1</td>\n",
              "      <td>1</td>\n",
              "      <td>Sunrisers Hyderabad</td>\n",
              "      <td>Royal Challengers Bangalore</td>\n",
              "      <td>1</td>\n",
              "      <td>1</td>\n",
              "      <td>DA Warner</td>\n",
              "      <td>S Dhawan</td>\n",
              "      <td>TS Mills</td>\n",
              "      <td>0</td>\n",
              "      <td>...</td>\n",
              "      <td>0</td>\n",
              "      <td>0</td>\n",
              "      <td>0</td>\n",
              "      <td>0</td>\n",
              "      <td>0</td>\n",
              "      <td>0</td>\n",
              "      <td>0</td>\n",
              "      <td>NaN</td>\n",
              "      <td>NaN</td>\n",
              "      <td>NaN</td>\n",
              "    </tr>\n",
              "    <tr>\n",
              "      <th>1</th>\n",
              "      <td>1</td>\n",
              "      <td>1</td>\n",
              "      <td>Sunrisers Hyderabad</td>\n",
              "      <td>Royal Challengers Bangalore</td>\n",
              "      <td>1</td>\n",
              "      <td>2</td>\n",
              "      <td>DA Warner</td>\n",
              "      <td>S Dhawan</td>\n",
              "      <td>TS Mills</td>\n",
              "      <td>0</td>\n",
              "      <td>...</td>\n",
              "      <td>0</td>\n",
              "      <td>0</td>\n",
              "      <td>0</td>\n",
              "      <td>0</td>\n",
              "      <td>0</td>\n",
              "      <td>0</td>\n",
              "      <td>0</td>\n",
              "      <td>NaN</td>\n",
              "      <td>NaN</td>\n",
              "      <td>NaN</td>\n",
              "    </tr>\n",
              "    <tr>\n",
              "      <th>2</th>\n",
              "      <td>1</td>\n",
              "      <td>1</td>\n",
              "      <td>Sunrisers Hyderabad</td>\n",
              "      <td>Royal Challengers Bangalore</td>\n",
              "      <td>1</td>\n",
              "      <td>3</td>\n",
              "      <td>DA Warner</td>\n",
              "      <td>S Dhawan</td>\n",
              "      <td>TS Mills</td>\n",
              "      <td>0</td>\n",
              "      <td>...</td>\n",
              "      <td>0</td>\n",
              "      <td>0</td>\n",
              "      <td>0</td>\n",
              "      <td>0</td>\n",
              "      <td>4</td>\n",
              "      <td>0</td>\n",
              "      <td>4</td>\n",
              "      <td>NaN</td>\n",
              "      <td>NaN</td>\n",
              "      <td>NaN</td>\n",
              "    </tr>\n",
              "    <tr>\n",
              "      <th>3</th>\n",
              "      <td>1</td>\n",
              "      <td>1</td>\n",
              "      <td>Sunrisers Hyderabad</td>\n",
              "      <td>Royal Challengers Bangalore</td>\n",
              "      <td>1</td>\n",
              "      <td>4</td>\n",
              "      <td>DA Warner</td>\n",
              "      <td>S Dhawan</td>\n",
              "      <td>TS Mills</td>\n",
              "      <td>0</td>\n",
              "      <td>...</td>\n",
              "      <td>0</td>\n",
              "      <td>0</td>\n",
              "      <td>0</td>\n",
              "      <td>0</td>\n",
              "      <td>0</td>\n",
              "      <td>0</td>\n",
              "      <td>0</td>\n",
              "      <td>NaN</td>\n",
              "      <td>NaN</td>\n",
              "      <td>NaN</td>\n",
              "    </tr>\n",
              "    <tr>\n",
              "      <th>4</th>\n",
              "      <td>1</td>\n",
              "      <td>1</td>\n",
              "      <td>Sunrisers Hyderabad</td>\n",
              "      <td>Royal Challengers Bangalore</td>\n",
              "      <td>1</td>\n",
              "      <td>5</td>\n",
              "      <td>DA Warner</td>\n",
              "      <td>S Dhawan</td>\n",
              "      <td>TS Mills</td>\n",
              "      <td>0</td>\n",
              "      <td>...</td>\n",
              "      <td>0</td>\n",
              "      <td>0</td>\n",
              "      <td>0</td>\n",
              "      <td>0</td>\n",
              "      <td>0</td>\n",
              "      <td>2</td>\n",
              "      <td>2</td>\n",
              "      <td>NaN</td>\n",
              "      <td>NaN</td>\n",
              "      <td>NaN</td>\n",
              "    </tr>\n",
              "  </tbody>\n",
              "</table>\n",
              "<p>5 rows × 21 columns</p>\n",
              "</div>"
            ],
            "text/plain": [
              "   match_id  inning         batting_team                 bowling_team  over  \\\n",
              "0         1       1  Sunrisers Hyderabad  Royal Challengers Bangalore     1   \n",
              "1         1       1  Sunrisers Hyderabad  Royal Challengers Bangalore     1   \n",
              "2         1       1  Sunrisers Hyderabad  Royal Challengers Bangalore     1   \n",
              "3         1       1  Sunrisers Hyderabad  Royal Challengers Bangalore     1   \n",
              "4         1       1  Sunrisers Hyderabad  Royal Challengers Bangalore     1   \n",
              "\n",
              "   ball    batsman non_striker    bowler  is_super_over  ...  bye_runs  \\\n",
              "0     1  DA Warner    S Dhawan  TS Mills              0  ...         0   \n",
              "1     2  DA Warner    S Dhawan  TS Mills              0  ...         0   \n",
              "2     3  DA Warner    S Dhawan  TS Mills              0  ...         0   \n",
              "3     4  DA Warner    S Dhawan  TS Mills              0  ...         0   \n",
              "4     5  DA Warner    S Dhawan  TS Mills              0  ...         0   \n",
              "\n",
              "   legbye_runs  noball_runs  penalty_runs  batsman_runs  extra_runs  \\\n",
              "0            0            0             0             0           0   \n",
              "1            0            0             0             0           0   \n",
              "2            0            0             0             4           0   \n",
              "3            0            0             0             0           0   \n",
              "4            0            0             0             0           2   \n",
              "\n",
              "   total_runs  player_dismissed dismissal_kind fielder  \n",
              "0           0               NaN            NaN     NaN  \n",
              "1           0               NaN            NaN     NaN  \n",
              "2           4               NaN            NaN     NaN  \n",
              "3           0               NaN            NaN     NaN  \n",
              "4           2               NaN            NaN     NaN  \n",
              "\n",
              "[5 rows x 21 columns]"
            ]
          },
          "metadata": {
            "tags": []
          },
          "execution_count": 13
        }
      ]
    },
    {
      "cell_type": "code",
      "metadata": {
        "id": "GXbb2QqhQnYO",
        "outputId": "958c3c93-1836-44e7-a2ec-c6ce460ff33a"
      },
      "source": [
        "#To show total rows and columns\n",
        "deliveries.shape"
      ],
      "execution_count": null,
      "outputs": [
        {
          "output_type": "execute_result",
          "data": {
            "text/plain": [
              "(179078, 21)"
            ]
          },
          "metadata": {
            "tags": []
          },
          "execution_count": 14
        }
      ]
    },
    {
      "cell_type": "code",
      "metadata": {
        "id": "CMqxFl64QnYO",
        "outputId": "f8769c38-40e5-4761-c4e9-1ef2a090b69e"
      },
      "source": [
        "# Data Types\n",
        "deliveries.dtypes"
      ],
      "execution_count": null,
      "outputs": [
        {
          "output_type": "execute_result",
          "data": {
            "text/plain": [
              "match_id             int64\n",
              "inning               int64\n",
              "batting_team        object\n",
              "bowling_team        object\n",
              "over                 int64\n",
              "ball                 int64\n",
              "batsman             object\n",
              "non_striker         object\n",
              "bowler              object\n",
              "is_super_over        int64\n",
              "wide_runs            int64\n",
              "bye_runs             int64\n",
              "legbye_runs          int64\n",
              "noball_runs          int64\n",
              "penalty_runs         int64\n",
              "batsman_runs         int64\n",
              "extra_runs           int64\n",
              "total_runs           int64\n",
              "player_dismissed    object\n",
              "dismissal_kind      object\n",
              "fielder             object\n",
              "dtype: object"
            ]
          },
          "metadata": {
            "tags": []
          },
          "execution_count": 15
        }
      ]
    },
    {
      "cell_type": "code",
      "metadata": {
        "id": "ZVP9gByiQnYO",
        "outputId": "9968af5d-5999-4f35-c5d8-f2ba3aa2a37c"
      },
      "source": [
        "# To check any Null Values\n",
        "deliveries.isnull().sum()"
      ],
      "execution_count": null,
      "outputs": [
        {
          "output_type": "execute_result",
          "data": {
            "text/plain": [
              "match_id                 0\n",
              "inning                   0\n",
              "batting_team             0\n",
              "bowling_team             0\n",
              "over                     0\n",
              "ball                     0\n",
              "batsman                  0\n",
              "non_striker              0\n",
              "bowler                   0\n",
              "is_super_over            0\n",
              "wide_runs                0\n",
              "bye_runs                 0\n",
              "legbye_runs              0\n",
              "noball_runs              0\n",
              "penalty_runs             0\n",
              "batsman_runs             0\n",
              "extra_runs               0\n",
              "total_runs               0\n",
              "player_dismissed    170244\n",
              "dismissal_kind      170244\n",
              "fielder             172630\n",
              "dtype: int64"
            ]
          },
          "metadata": {
            "tags": []
          },
          "execution_count": 16
        }
      ]
    },
    {
      "cell_type": "code",
      "metadata": {
        "id": "vNnA05upQnYO",
        "outputId": "ed1493a4-7bc6-48ec-9503-7bf09658dcbe"
      },
      "source": [
        "# To check any duplicate rows\n",
        "deliveries.duplicated().sum()"
      ],
      "execution_count": null,
      "outputs": [
        {
          "output_type": "execute_result",
          "data": {
            "text/plain": [
              "23"
            ]
          },
          "metadata": {
            "tags": []
          },
          "execution_count": 17
        }
      ]
    },
    {
      "cell_type": "code",
      "metadata": {
        "id": "x4YcT8rgQnYP"
      },
      "source": [
        "#dropping those duplicate rows\n",
        "deliveries.drop_duplicates(inplace=True)"
      ],
      "execution_count": null,
      "outputs": []
    },
    {
      "cell_type": "code",
      "metadata": {
        "id": "-U1GKfWYQnYP",
        "outputId": "280451d6-368b-4685-a0bc-b206006ae640"
      },
      "source": [
        "#check again to make sure duplicated rows has been dropped\n",
        "deliveries.duplicated().sum()\n"
      ],
      "execution_count": null,
      "outputs": [
        {
          "output_type": "execute_result",
          "data": {
            "text/plain": [
              "0"
            ]
          },
          "metadata": {
            "tags": []
          },
          "execution_count": 19
        }
      ]
    },
    {
      "cell_type": "code",
      "metadata": {
        "id": "U4mELlbeQnYP",
        "outputId": "c2865a06-62ac-451d-ae46-1b7d7d36d6f3"
      },
      "source": [
        "# Statistical Details \n",
        "deliveries.describe()"
      ],
      "execution_count": null,
      "outputs": [
        {
          "output_type": "execute_result",
          "data": {
            "text/html": [
              "<div>\n",
              "<style scoped>\n",
              "    .dataframe tbody tr th:only-of-type {\n",
              "        vertical-align: middle;\n",
              "    }\n",
              "\n",
              "    .dataframe tbody tr th {\n",
              "        vertical-align: top;\n",
              "    }\n",
              "\n",
              "    .dataframe thead th {\n",
              "        text-align: right;\n",
              "    }\n",
              "</style>\n",
              "<table border=\"1\" class=\"dataframe\">\n",
              "  <thead>\n",
              "    <tr style=\"text-align: right;\">\n",
              "      <th></th>\n",
              "      <th>match_id</th>\n",
              "      <th>inning</th>\n",
              "      <th>over</th>\n",
              "      <th>ball</th>\n",
              "      <th>is_super_over</th>\n",
              "      <th>wide_runs</th>\n",
              "      <th>bye_runs</th>\n",
              "      <th>legbye_runs</th>\n",
              "      <th>noball_runs</th>\n",
              "      <th>penalty_runs</th>\n",
              "      <th>batsman_runs</th>\n",
              "      <th>extra_runs</th>\n",
              "      <th>total_runs</th>\n",
              "    </tr>\n",
              "  </thead>\n",
              "  <tbody>\n",
              "    <tr>\n",
              "      <th>count</th>\n",
              "      <td>179055.000000</td>\n",
              "      <td>179055.000000</td>\n",
              "      <td>179055.000000</td>\n",
              "      <td>179055.000000</td>\n",
              "      <td>179055.000000</td>\n",
              "      <td>179055.000000</td>\n",
              "      <td>179055.000000</td>\n",
              "      <td>179055.000000</td>\n",
              "      <td>179055.000000</td>\n",
              "      <td>179055.000000</td>\n",
              "      <td>179055.000000</td>\n",
              "      <td>179055.000000</td>\n",
              "      <td>179055.000000</td>\n",
              "    </tr>\n",
              "    <tr>\n",
              "      <th>mean</th>\n",
              "      <td>1801.169758</td>\n",
              "      <td>1.482969</td>\n",
              "      <td>10.162916</td>\n",
              "      <td>3.615543</td>\n",
              "      <td>0.000452</td>\n",
              "      <td>0.036726</td>\n",
              "      <td>0.004937</td>\n",
              "      <td>0.021133</td>\n",
              "      <td>0.004183</td>\n",
              "      <td>0.000056</td>\n",
              "      <td>1.246913</td>\n",
              "      <td>0.067035</td>\n",
              "      <td>1.313948</td>\n",
              "    </tr>\n",
              "    <tr>\n",
              "      <th>std</th>\n",
              "      <td>3471.116142</td>\n",
              "      <td>0.502075</td>\n",
              "      <td>5.677628</td>\n",
              "      <td>1.806869</td>\n",
              "      <td>0.021264</td>\n",
              "      <td>0.251177</td>\n",
              "      <td>0.116487</td>\n",
              "      <td>0.194907</td>\n",
              "      <td>0.070497</td>\n",
              "      <td>0.016711</td>\n",
              "      <td>1.608322</td>\n",
              "      <td>0.342567</td>\n",
              "      <td>1.605470</td>\n",
              "    </tr>\n",
              "    <tr>\n",
              "      <th>min</th>\n",
              "      <td>1.000000</td>\n",
              "      <td>1.000000</td>\n",
              "      <td>1.000000</td>\n",
              "      <td>1.000000</td>\n",
              "      <td>0.000000</td>\n",
              "      <td>0.000000</td>\n",
              "      <td>0.000000</td>\n",
              "      <td>0.000000</td>\n",
              "      <td>0.000000</td>\n",
              "      <td>0.000000</td>\n",
              "      <td>0.000000</td>\n",
              "      <td>0.000000</td>\n",
              "      <td>0.000000</td>\n",
              "    </tr>\n",
              "    <tr>\n",
              "      <th>25%</th>\n",
              "      <td>190.000000</td>\n",
              "      <td>1.000000</td>\n",
              "      <td>5.000000</td>\n",
              "      <td>2.000000</td>\n",
              "      <td>0.000000</td>\n",
              "      <td>0.000000</td>\n",
              "      <td>0.000000</td>\n",
              "      <td>0.000000</td>\n",
              "      <td>0.000000</td>\n",
              "      <td>0.000000</td>\n",
              "      <td>0.000000</td>\n",
              "      <td>0.000000</td>\n",
              "      <td>0.000000</td>\n",
              "    </tr>\n",
              "    <tr>\n",
              "      <th>50%</th>\n",
              "      <td>379.000000</td>\n",
              "      <td>1.000000</td>\n",
              "      <td>10.000000</td>\n",
              "      <td>4.000000</td>\n",
              "      <td>0.000000</td>\n",
              "      <td>0.000000</td>\n",
              "      <td>0.000000</td>\n",
              "      <td>0.000000</td>\n",
              "      <td>0.000000</td>\n",
              "      <td>0.000000</td>\n",
              "      <td>1.000000</td>\n",
              "      <td>0.000000</td>\n",
              "      <td>1.000000</td>\n",
              "    </tr>\n",
              "    <tr>\n",
              "      <th>75%</th>\n",
              "      <td>567.000000</td>\n",
              "      <td>2.000000</td>\n",
              "      <td>15.000000</td>\n",
              "      <td>5.000000</td>\n",
              "      <td>0.000000</td>\n",
              "      <td>0.000000</td>\n",
              "      <td>0.000000</td>\n",
              "      <td>0.000000</td>\n",
              "      <td>0.000000</td>\n",
              "      <td>0.000000</td>\n",
              "      <td>1.000000</td>\n",
              "      <td>0.000000</td>\n",
              "      <td>1.000000</td>\n",
              "    </tr>\n",
              "    <tr>\n",
              "      <th>max</th>\n",
              "      <td>11415.000000</td>\n",
              "      <td>5.000000</td>\n",
              "      <td>20.000000</td>\n",
              "      <td>9.000000</td>\n",
              "      <td>1.000000</td>\n",
              "      <td>5.000000</td>\n",
              "      <td>4.000000</td>\n",
              "      <td>5.000000</td>\n",
              "      <td>5.000000</td>\n",
              "      <td>5.000000</td>\n",
              "      <td>7.000000</td>\n",
              "      <td>7.000000</td>\n",
              "      <td>10.000000</td>\n",
              "    </tr>\n",
              "  </tbody>\n",
              "</table>\n",
              "</div>"
            ],
            "text/plain": [
              "            match_id         inning           over           ball  \\\n",
              "count  179055.000000  179055.000000  179055.000000  179055.000000   \n",
              "mean     1801.169758       1.482969      10.162916       3.615543   \n",
              "std      3471.116142       0.502075       5.677628       1.806869   \n",
              "min         1.000000       1.000000       1.000000       1.000000   \n",
              "25%       190.000000       1.000000       5.000000       2.000000   \n",
              "50%       379.000000       1.000000      10.000000       4.000000   \n",
              "75%       567.000000       2.000000      15.000000       5.000000   \n",
              "max     11415.000000       5.000000      20.000000       9.000000   \n",
              "\n",
              "       is_super_over      wide_runs       bye_runs    legbye_runs  \\\n",
              "count  179055.000000  179055.000000  179055.000000  179055.000000   \n",
              "mean        0.000452       0.036726       0.004937       0.021133   \n",
              "std         0.021264       0.251177       0.116487       0.194907   \n",
              "min         0.000000       0.000000       0.000000       0.000000   \n",
              "25%         0.000000       0.000000       0.000000       0.000000   \n",
              "50%         0.000000       0.000000       0.000000       0.000000   \n",
              "75%         0.000000       0.000000       0.000000       0.000000   \n",
              "max         1.000000       5.000000       4.000000       5.000000   \n",
              "\n",
              "         noball_runs   penalty_runs   batsman_runs     extra_runs  \\\n",
              "count  179055.000000  179055.000000  179055.000000  179055.000000   \n",
              "mean        0.004183       0.000056       1.246913       0.067035   \n",
              "std         0.070497       0.016711       1.608322       0.342567   \n",
              "min         0.000000       0.000000       0.000000       0.000000   \n",
              "25%         0.000000       0.000000       0.000000       0.000000   \n",
              "50%         0.000000       0.000000       1.000000       0.000000   \n",
              "75%         0.000000       0.000000       1.000000       0.000000   \n",
              "max         5.000000       5.000000       7.000000       7.000000   \n",
              "\n",
              "          total_runs  \n",
              "count  179055.000000  \n",
              "mean        1.313948  \n",
              "std         1.605470  \n",
              "min         0.000000  \n",
              "25%         0.000000  \n",
              "50%         1.000000  \n",
              "75%         1.000000  \n",
              "max        10.000000  "
            ]
          },
          "metadata": {
            "tags": []
          },
          "execution_count": 20
        }
      ]
    },
    {
      "cell_type": "code",
      "metadata": {
        "id": "fqx-DJhSQnYP",
        "outputId": "7051de60-66a3-4422-cf83-429ef6b30d46"
      },
      "source": [
        "#no.of distinct values\n",
        "deliveries.nunique()"
      ],
      "execution_count": null,
      "outputs": [
        {
          "output_type": "execute_result",
          "data": {
            "text/plain": [
              "match_id            756\n",
              "inning                5\n",
              "batting_team         15\n",
              "bowling_team         15\n",
              "over                 20\n",
              "ball                  9\n",
              "batsman             516\n",
              "non_striker         511\n",
              "bowler              405\n",
              "is_super_over         2\n",
              "wide_runs             6\n",
              "bye_runs              5\n",
              "legbye_runs           6\n",
              "noball_runs           5\n",
              "penalty_runs          2\n",
              "batsman_runs          8\n",
              "extra_runs            7\n",
              "total_runs           10\n",
              "player_dismissed    487\n",
              "dismissal_kind        9\n",
              "fielder             499\n",
              "dtype: int64"
            ]
          },
          "metadata": {
            "tags": []
          },
          "execution_count": 21
        }
      ]
    },
    {
      "cell_type": "markdown",
      "metadata": {
        "id": "EwE3OHlhQnYP"
      },
      "source": [
        "### Join the two datasets together"
      ]
    },
    {
      "cell_type": "code",
      "metadata": {
        "scrolled": true,
        "id": "dHGaNBa3QnYQ",
        "outputId": "89428018-0dc5-4aef-a4c0-e38aa9cb3864"
      },
      "source": [
        "df = pd.merge(matches,deliveries, left_on='id', right_on ='match_id')\n",
        "df.head()"
      ],
      "execution_count": null,
      "outputs": [
        {
          "output_type": "execute_result",
          "data": {
            "text/html": [
              "<div>\n",
              "<style scoped>\n",
              "    .dataframe tbody tr th:only-of-type {\n",
              "        vertical-align: middle;\n",
              "    }\n",
              "\n",
              "    .dataframe tbody tr th {\n",
              "        vertical-align: top;\n",
              "    }\n",
              "\n",
              "    .dataframe thead th {\n",
              "        text-align: right;\n",
              "    }\n",
              "</style>\n",
              "<table border=\"1\" class=\"dataframe\">\n",
              "  <thead>\n",
              "    <tr style=\"text-align: right;\">\n",
              "      <th></th>\n",
              "      <th>id</th>\n",
              "      <th>season</th>\n",
              "      <th>city</th>\n",
              "      <th>date</th>\n",
              "      <th>team1</th>\n",
              "      <th>team2</th>\n",
              "      <th>toss_winner</th>\n",
              "      <th>toss_decision</th>\n",
              "      <th>result</th>\n",
              "      <th>dl_applied</th>\n",
              "      <th>...</th>\n",
              "      <th>bye_runs</th>\n",
              "      <th>legbye_runs</th>\n",
              "      <th>noball_runs</th>\n",
              "      <th>penalty_runs</th>\n",
              "      <th>batsman_runs</th>\n",
              "      <th>extra_runs</th>\n",
              "      <th>total_runs</th>\n",
              "      <th>player_dismissed</th>\n",
              "      <th>dismissal_kind</th>\n",
              "      <th>fielder</th>\n",
              "    </tr>\n",
              "  </thead>\n",
              "  <tbody>\n",
              "    <tr>\n",
              "      <th>0</th>\n",
              "      <td>1</td>\n",
              "      <td>2017</td>\n",
              "      <td>Hyderabad</td>\n",
              "      <td>2017-04-05</td>\n",
              "      <td>Sunrisers Hyderabad</td>\n",
              "      <td>Royal Challengers Bangalore</td>\n",
              "      <td>Royal Challengers Bangalore</td>\n",
              "      <td>field</td>\n",
              "      <td>normal</td>\n",
              "      <td>0</td>\n",
              "      <td>...</td>\n",
              "      <td>0</td>\n",
              "      <td>0</td>\n",
              "      <td>0</td>\n",
              "      <td>0</td>\n",
              "      <td>0</td>\n",
              "      <td>0</td>\n",
              "      <td>0</td>\n",
              "      <td>NaN</td>\n",
              "      <td>NaN</td>\n",
              "      <td>NaN</td>\n",
              "    </tr>\n",
              "    <tr>\n",
              "      <th>1</th>\n",
              "      <td>1</td>\n",
              "      <td>2017</td>\n",
              "      <td>Hyderabad</td>\n",
              "      <td>2017-04-05</td>\n",
              "      <td>Sunrisers Hyderabad</td>\n",
              "      <td>Royal Challengers Bangalore</td>\n",
              "      <td>Royal Challengers Bangalore</td>\n",
              "      <td>field</td>\n",
              "      <td>normal</td>\n",
              "      <td>0</td>\n",
              "      <td>...</td>\n",
              "      <td>0</td>\n",
              "      <td>0</td>\n",
              "      <td>0</td>\n",
              "      <td>0</td>\n",
              "      <td>0</td>\n",
              "      <td>0</td>\n",
              "      <td>0</td>\n",
              "      <td>NaN</td>\n",
              "      <td>NaN</td>\n",
              "      <td>NaN</td>\n",
              "    </tr>\n",
              "    <tr>\n",
              "      <th>2</th>\n",
              "      <td>1</td>\n",
              "      <td>2017</td>\n",
              "      <td>Hyderabad</td>\n",
              "      <td>2017-04-05</td>\n",
              "      <td>Sunrisers Hyderabad</td>\n",
              "      <td>Royal Challengers Bangalore</td>\n",
              "      <td>Royal Challengers Bangalore</td>\n",
              "      <td>field</td>\n",
              "      <td>normal</td>\n",
              "      <td>0</td>\n",
              "      <td>...</td>\n",
              "      <td>0</td>\n",
              "      <td>0</td>\n",
              "      <td>0</td>\n",
              "      <td>0</td>\n",
              "      <td>4</td>\n",
              "      <td>0</td>\n",
              "      <td>4</td>\n",
              "      <td>NaN</td>\n",
              "      <td>NaN</td>\n",
              "      <td>NaN</td>\n",
              "    </tr>\n",
              "    <tr>\n",
              "      <th>3</th>\n",
              "      <td>1</td>\n",
              "      <td>2017</td>\n",
              "      <td>Hyderabad</td>\n",
              "      <td>2017-04-05</td>\n",
              "      <td>Sunrisers Hyderabad</td>\n",
              "      <td>Royal Challengers Bangalore</td>\n",
              "      <td>Royal Challengers Bangalore</td>\n",
              "      <td>field</td>\n",
              "      <td>normal</td>\n",
              "      <td>0</td>\n",
              "      <td>...</td>\n",
              "      <td>0</td>\n",
              "      <td>0</td>\n",
              "      <td>0</td>\n",
              "      <td>0</td>\n",
              "      <td>0</td>\n",
              "      <td>0</td>\n",
              "      <td>0</td>\n",
              "      <td>NaN</td>\n",
              "      <td>NaN</td>\n",
              "      <td>NaN</td>\n",
              "    </tr>\n",
              "    <tr>\n",
              "      <th>4</th>\n",
              "      <td>1</td>\n",
              "      <td>2017</td>\n",
              "      <td>Hyderabad</td>\n",
              "      <td>2017-04-05</td>\n",
              "      <td>Sunrisers Hyderabad</td>\n",
              "      <td>Royal Challengers Bangalore</td>\n",
              "      <td>Royal Challengers Bangalore</td>\n",
              "      <td>field</td>\n",
              "      <td>normal</td>\n",
              "      <td>0</td>\n",
              "      <td>...</td>\n",
              "      <td>0</td>\n",
              "      <td>0</td>\n",
              "      <td>0</td>\n",
              "      <td>0</td>\n",
              "      <td>0</td>\n",
              "      <td>2</td>\n",
              "      <td>2</td>\n",
              "      <td>NaN</td>\n",
              "      <td>NaN</td>\n",
              "      <td>NaN</td>\n",
              "    </tr>\n",
              "  </tbody>\n",
              "</table>\n",
              "<p>5 rows × 36 columns</p>\n",
              "</div>"
            ],
            "text/plain": [
              "   id  season       city        date                team1  \\\n",
              "0   1    2017  Hyderabad  2017-04-05  Sunrisers Hyderabad   \n",
              "1   1    2017  Hyderabad  2017-04-05  Sunrisers Hyderabad   \n",
              "2   1    2017  Hyderabad  2017-04-05  Sunrisers Hyderabad   \n",
              "3   1    2017  Hyderabad  2017-04-05  Sunrisers Hyderabad   \n",
              "4   1    2017  Hyderabad  2017-04-05  Sunrisers Hyderabad   \n",
              "\n",
              "                         team2                  toss_winner toss_decision  \\\n",
              "0  Royal Challengers Bangalore  Royal Challengers Bangalore         field   \n",
              "1  Royal Challengers Bangalore  Royal Challengers Bangalore         field   \n",
              "2  Royal Challengers Bangalore  Royal Challengers Bangalore         field   \n",
              "3  Royal Challengers Bangalore  Royal Challengers Bangalore         field   \n",
              "4  Royal Challengers Bangalore  Royal Challengers Bangalore         field   \n",
              "\n",
              "   result  dl_applied  ... bye_runs  legbye_runs  noball_runs penalty_runs  \\\n",
              "0  normal           0  ...        0            0            0            0   \n",
              "1  normal           0  ...        0            0            0            0   \n",
              "2  normal           0  ...        0            0            0            0   \n",
              "3  normal           0  ...        0            0            0            0   \n",
              "4  normal           0  ...        0            0            0            0   \n",
              "\n",
              "  batsman_runs  extra_runs  total_runs player_dismissed dismissal_kind  \\\n",
              "0            0           0           0              NaN            NaN   \n",
              "1            0           0           0              NaN            NaN   \n",
              "2            4           0           4              NaN            NaN   \n",
              "3            0           0           0              NaN            NaN   \n",
              "4            0           2           2              NaN            NaN   \n",
              "\n",
              "   fielder  \n",
              "0      NaN  \n",
              "1      NaN  \n",
              "2      NaN  \n",
              "3      NaN  \n",
              "4      NaN  \n",
              "\n",
              "[5 rows x 36 columns]"
            ]
          },
          "metadata": {
            "tags": []
          },
          "execution_count": 22
        }
      ]
    },
    {
      "cell_type": "code",
      "metadata": {
        "id": "zY4zLhN-QnYQ",
        "outputId": "35698092-c6f5-49d5-ef76-49ca28e6dad0"
      },
      "source": [
        "#To show total rows and columns\n",
        "df.shape"
      ],
      "execution_count": null,
      "outputs": [
        {
          "output_type": "execute_result",
          "data": {
            "text/plain": [
              "(179055, 36)"
            ]
          },
          "metadata": {
            "tags": []
          },
          "execution_count": 23
        }
      ]
    },
    {
      "cell_type": "markdown",
      "metadata": {
        "id": "0d2RCTF3QnYQ"
      },
      "source": [
        "### Data Visualization"
      ]
    },
    {
      "cell_type": "markdown",
      "metadata": {
        "id": "Yq9nWx19QnYQ"
      },
      "source": [
        "##### correlation matrix "
      ]
    },
    {
      "cell_type": "code",
      "metadata": {
        "id": "PBbSep9VQnYQ",
        "outputId": "5e5fb9d1-51eb-4129-ff4e-24c834f727e8"
      },
      "source": [
        "df.drop(['id','match_id'],axis=1).corr()\n"
      ],
      "execution_count": null,
      "outputs": [
        {
          "output_type": "execute_result",
          "data": {
            "text/html": [
              "<div>\n",
              "<style scoped>\n",
              "    .dataframe tbody tr th:only-of-type {\n",
              "        vertical-align: middle;\n",
              "    }\n",
              "\n",
              "    .dataframe tbody tr th {\n",
              "        vertical-align: top;\n",
              "    }\n",
              "\n",
              "    .dataframe thead th {\n",
              "        text-align: right;\n",
              "    }\n",
              "</style>\n",
              "<table border=\"1\" class=\"dataframe\">\n",
              "  <thead>\n",
              "    <tr style=\"text-align: right;\">\n",
              "      <th></th>\n",
              "      <th>season</th>\n",
              "      <th>dl_applied</th>\n",
              "      <th>win_by_runs</th>\n",
              "      <th>win_by_wickets</th>\n",
              "      <th>inning</th>\n",
              "      <th>over</th>\n",
              "      <th>ball</th>\n",
              "      <th>is_super_over</th>\n",
              "      <th>wide_runs</th>\n",
              "      <th>bye_runs</th>\n",
              "      <th>legbye_runs</th>\n",
              "      <th>noball_runs</th>\n",
              "      <th>penalty_runs</th>\n",
              "      <th>batsman_runs</th>\n",
              "      <th>extra_runs</th>\n",
              "      <th>total_runs</th>\n",
              "    </tr>\n",
              "  </thead>\n",
              "  <tbody>\n",
              "    <tr>\n",
              "      <th>season</th>\n",
              "      <td>1.000000</td>\n",
              "      <td>0.001415</td>\n",
              "      <td>-0.040273</td>\n",
              "      <td>-0.006509</td>\n",
              "      <td>0.000976</td>\n",
              "      <td>0.007613</td>\n",
              "      <td>-0.003230</td>\n",
              "      <td>-0.001636</td>\n",
              "      <td>-0.010530</td>\n",
              "      <td>-0.004096</td>\n",
              "      <td>-0.013175</td>\n",
              "      <td>-0.011434</td>\n",
              "      <td>-0.002428</td>\n",
              "      <td>0.036552</td>\n",
              "      <td>-0.019081</td>\n",
              "      <td>0.032546</td>\n",
              "    </tr>\n",
              "    <tr>\n",
              "      <th>dl_applied</th>\n",
              "      <td>0.001415</td>\n",
              "      <td>1.000000</td>\n",
              "      <td>-0.007722</td>\n",
              "      <td>-0.019157</td>\n",
              "      <td>-0.032568</td>\n",
              "      <td>-0.045707</td>\n",
              "      <td>0.001732</td>\n",
              "      <td>-0.002873</td>\n",
              "      <td>0.003718</td>\n",
              "      <td>-0.000664</td>\n",
              "      <td>-0.000388</td>\n",
              "      <td>-0.001445</td>\n",
              "      <td>-0.000451</td>\n",
              "      <td>0.006411</td>\n",
              "      <td>0.001960</td>\n",
              "      <td>0.006841</td>\n",
              "    </tr>\n",
              "    <tr>\n",
              "      <th>win_by_runs</th>\n",
              "      <td>-0.040273</td>\n",
              "      <td>-0.007722</td>\n",
              "      <td>1.000000</td>\n",
              "      <td>-0.561518</td>\n",
              "      <td>-0.000482</td>\n",
              "      <td>0.004167</td>\n",
              "      <td>0.001222</td>\n",
              "      <td>-0.012259</td>\n",
              "      <td>-0.000096</td>\n",
              "      <td>0.002361</td>\n",
              "      <td>0.003097</td>\n",
              "      <td>0.003535</td>\n",
              "      <td>-0.001926</td>\n",
              "      <td>0.003041</td>\n",
              "      <td>0.003129</td>\n",
              "      <td>0.003714</td>\n",
              "    </tr>\n",
              "    <tr>\n",
              "      <th>win_by_wickets</th>\n",
              "      <td>-0.006509</td>\n",
              "      <td>-0.019157</td>\n",
              "      <td>-0.561518</td>\n",
              "      <td>1.000000</td>\n",
              "      <td>-0.024405</td>\n",
              "      <td>-0.038388</td>\n",
              "      <td>-0.001996</td>\n",
              "      <td>-0.020730</td>\n",
              "      <td>0.005834</td>\n",
              "      <td>-0.004959</td>\n",
              "      <td>-0.005176</td>\n",
              "      <td>-0.001299</td>\n",
              "      <td>0.004232</td>\n",
              "      <td>-0.008268</td>\n",
              "      <td>-0.000414</td>\n",
              "      <td>-0.008371</td>\n",
              "    </tr>\n",
              "    <tr>\n",
              "      <th>inning</th>\n",
              "      <td>0.000976</td>\n",
              "      <td>-0.032568</td>\n",
              "      <td>-0.000482</td>\n",
              "      <td>-0.024405</td>\n",
              "      <td>1.000000</td>\n",
              "      <td>-0.050118</td>\n",
              "      <td>-0.003933</td>\n",
              "      <td>0.084158</td>\n",
              "      <td>0.001196</td>\n",
              "      <td>-0.000759</td>\n",
              "      <td>-0.001972</td>\n",
              "      <td>-0.000906</td>\n",
              "      <td>0.003442</td>\n",
              "      <td>-0.005378</td>\n",
              "      <td>-0.000522</td>\n",
              "      <td>-0.005499</td>\n",
              "    </tr>\n",
              "    <tr>\n",
              "      <th>over</th>\n",
              "      <td>0.007613</td>\n",
              "      <td>-0.045707</td>\n",
              "      <td>0.004167</td>\n",
              "      <td>-0.038388</td>\n",
              "      <td>-0.050118</td>\n",
              "      <td>1.000000</td>\n",
              "      <td>-0.007428</td>\n",
              "      <td>-0.034333</td>\n",
              "      <td>-0.010015</td>\n",
              "      <td>0.012109</td>\n",
              "      <td>-0.004817</td>\n",
              "      <td>0.016981</td>\n",
              "      <td>-0.000979</td>\n",
              "      <td>0.086688</td>\n",
              "      <td>-0.002520</td>\n",
              "      <td>0.086304</td>\n",
              "    </tr>\n",
              "    <tr>\n",
              "      <th>ball</th>\n",
              "      <td>-0.003230</td>\n",
              "      <td>0.001732</td>\n",
              "      <td>0.001222</td>\n",
              "      <td>-0.001996</td>\n",
              "      <td>-0.003933</td>\n",
              "      <td>-0.007428</td>\n",
              "      <td>1.000000</td>\n",
              "      <td>-0.001142</td>\n",
              "      <td>-0.004662</td>\n",
              "      <td>0.006603</td>\n",
              "      <td>-0.002794</td>\n",
              "      <td>0.000568</td>\n",
              "      <td>0.000711</td>\n",
              "      <td>0.007949</td>\n",
              "      <td>-0.002611</td>\n",
              "      <td>0.007406</td>\n",
              "    </tr>\n",
              "    <tr>\n",
              "      <th>is_super_over</th>\n",
              "      <td>-0.001636</td>\n",
              "      <td>-0.002873</td>\n",
              "      <td>-0.012259</td>\n",
              "      <td>-0.020730</td>\n",
              "      <td>0.084158</td>\n",
              "      <td>-0.034333</td>\n",
              "      <td>-0.001142</td>\n",
              "      <td>1.000000</td>\n",
              "      <td>-0.001019</td>\n",
              "      <td>0.001353</td>\n",
              "      <td>0.001736</td>\n",
              "      <td>0.013640</td>\n",
              "      <td>-0.000071</td>\n",
              "      <td>0.010125</td>\n",
              "      <td>0.003504</td>\n",
              "      <td>0.010890</td>\n",
              "    </tr>\n",
              "    <tr>\n",
              "      <th>wide_runs</th>\n",
              "      <td>-0.010530</td>\n",
              "      <td>0.003718</td>\n",
              "      <td>-0.000096</td>\n",
              "      <td>0.005834</td>\n",
              "      <td>0.001196</td>\n",
              "      <td>-0.010015</td>\n",
              "      <td>-0.004662</td>\n",
              "      <td>-0.001019</td>\n",
              "      <td>1.000000</td>\n",
              "      <td>-0.006197</td>\n",
              "      <td>-0.015854</td>\n",
              "      <td>-0.008676</td>\n",
              "      <td>0.012817</td>\n",
              "      <td>-0.094586</td>\n",
              "      <td>0.720932</td>\n",
              "      <td>0.059075</td>\n",
              "    </tr>\n",
              "    <tr>\n",
              "      <th>bye_runs</th>\n",
              "      <td>-0.004096</td>\n",
              "      <td>-0.000664</td>\n",
              "      <td>0.002361</td>\n",
              "      <td>-0.004959</td>\n",
              "      <td>-0.000759</td>\n",
              "      <td>0.012109</td>\n",
              "      <td>0.006603</td>\n",
              "      <td>0.001353</td>\n",
              "      <td>-0.006197</td>\n",
              "      <td>1.000000</td>\n",
              "      <td>-0.004595</td>\n",
              "      <td>-0.002515</td>\n",
              "      <td>-0.000142</td>\n",
              "      <td>-0.018938</td>\n",
              "      <td>0.332359</td>\n",
              "      <td>0.051946</td>\n",
              "    </tr>\n",
              "    <tr>\n",
              "      <th>legbye_runs</th>\n",
              "      <td>-0.013175</td>\n",
              "      <td>-0.000388</td>\n",
              "      <td>0.003097</td>\n",
              "      <td>-0.005176</td>\n",
              "      <td>-0.001972</td>\n",
              "      <td>-0.004817</td>\n",
              "      <td>-0.002794</td>\n",
              "      <td>0.001736</td>\n",
              "      <td>-0.015854</td>\n",
              "      <td>-0.004595</td>\n",
              "      <td>1.000000</td>\n",
              "      <td>-0.006434</td>\n",
              "      <td>-0.000362</td>\n",
              "      <td>-0.070113</td>\n",
              "      <td>0.554431</td>\n",
              "      <td>0.048065</td>\n",
              "    </tr>\n",
              "    <tr>\n",
              "      <th>noball_runs</th>\n",
              "      <td>-0.011434</td>\n",
              "      <td>-0.001445</td>\n",
              "      <td>0.003535</td>\n",
              "      <td>-0.001299</td>\n",
              "      <td>-0.000906</td>\n",
              "      <td>0.016981</td>\n",
              "      <td>0.000568</td>\n",
              "      <td>0.013640</td>\n",
              "      <td>-0.008676</td>\n",
              "      <td>-0.002515</td>\n",
              "      <td>-0.006434</td>\n",
              "      <td>1.000000</td>\n",
              "      <td>-0.000198</td>\n",
              "      <td>0.004830</td>\n",
              "      <td>0.194903</td>\n",
              "      <td>0.046426</td>\n",
              "    </tr>\n",
              "    <tr>\n",
              "      <th>penalty_runs</th>\n",
              "      <td>-0.002428</td>\n",
              "      <td>-0.000451</td>\n",
              "      <td>-0.001926</td>\n",
              "      <td>0.004232</td>\n",
              "      <td>0.003442</td>\n",
              "      <td>-0.000979</td>\n",
              "      <td>0.000711</td>\n",
              "      <td>-0.000071</td>\n",
              "      <td>0.012817</td>\n",
              "      <td>-0.000142</td>\n",
              "      <td>-0.000362</td>\n",
              "      <td>-0.000198</td>\n",
              "      <td>1.000000</td>\n",
              "      <td>-0.002591</td>\n",
              "      <td>0.057883</td>\n",
              "      <td>0.009755</td>\n",
              "    </tr>\n",
              "    <tr>\n",
              "      <th>batsman_runs</th>\n",
              "      <td>0.036552</td>\n",
              "      <td>0.006411</td>\n",
              "      <td>0.003041</td>\n",
              "      <td>-0.008268</td>\n",
              "      <td>-0.005378</td>\n",
              "      <td>0.086688</td>\n",
              "      <td>0.007949</td>\n",
              "      <td>0.010125</td>\n",
              "      <td>-0.094586</td>\n",
              "      <td>-0.018938</td>\n",
              "      <td>-0.070113</td>\n",
              "      <td>0.004830</td>\n",
              "      <td>-0.002591</td>\n",
              "      <td>1.000000</td>\n",
              "      <td>-0.114816</td>\n",
              "      <td>0.977278</td>\n",
              "    </tr>\n",
              "    <tr>\n",
              "      <th>extra_runs</th>\n",
              "      <td>-0.019081</td>\n",
              "      <td>0.001960</td>\n",
              "      <td>0.003129</td>\n",
              "      <td>-0.000414</td>\n",
              "      <td>-0.000522</td>\n",
              "      <td>-0.002520</td>\n",
              "      <td>-0.002611</td>\n",
              "      <td>0.003504</td>\n",
              "      <td>0.720932</td>\n",
              "      <td>0.332359</td>\n",
              "      <td>0.554431</td>\n",
              "      <td>0.194903</td>\n",
              "      <td>0.057883</td>\n",
              "      <td>-0.114816</td>\n",
              "      <td>1.000000</td>\n",
              "      <td>0.098355</td>\n",
              "    </tr>\n",
              "    <tr>\n",
              "      <th>total_runs</th>\n",
              "      <td>0.032546</td>\n",
              "      <td>0.006841</td>\n",
              "      <td>0.003714</td>\n",
              "      <td>-0.008371</td>\n",
              "      <td>-0.005499</td>\n",
              "      <td>0.086304</td>\n",
              "      <td>0.007406</td>\n",
              "      <td>0.010890</td>\n",
              "      <td>0.059075</td>\n",
              "      <td>0.051946</td>\n",
              "      <td>0.048065</td>\n",
              "      <td>0.046426</td>\n",
              "      <td>0.009755</td>\n",
              "      <td>0.977278</td>\n",
              "      <td>0.098355</td>\n",
              "      <td>1.000000</td>\n",
              "    </tr>\n",
              "  </tbody>\n",
              "</table>\n",
              "</div>"
            ],
            "text/plain": [
              "                  season  dl_applied  win_by_runs  win_by_wickets    inning  \\\n",
              "season          1.000000    0.001415    -0.040273       -0.006509  0.000976   \n",
              "dl_applied      0.001415    1.000000    -0.007722       -0.019157 -0.032568   \n",
              "win_by_runs    -0.040273   -0.007722     1.000000       -0.561518 -0.000482   \n",
              "win_by_wickets -0.006509   -0.019157    -0.561518        1.000000 -0.024405   \n",
              "inning          0.000976   -0.032568    -0.000482       -0.024405  1.000000   \n",
              "over            0.007613   -0.045707     0.004167       -0.038388 -0.050118   \n",
              "ball           -0.003230    0.001732     0.001222       -0.001996 -0.003933   \n",
              "is_super_over  -0.001636   -0.002873    -0.012259       -0.020730  0.084158   \n",
              "wide_runs      -0.010530    0.003718    -0.000096        0.005834  0.001196   \n",
              "bye_runs       -0.004096   -0.000664     0.002361       -0.004959 -0.000759   \n",
              "legbye_runs    -0.013175   -0.000388     0.003097       -0.005176 -0.001972   \n",
              "noball_runs    -0.011434   -0.001445     0.003535       -0.001299 -0.000906   \n",
              "penalty_runs   -0.002428   -0.000451    -0.001926        0.004232  0.003442   \n",
              "batsman_runs    0.036552    0.006411     0.003041       -0.008268 -0.005378   \n",
              "extra_runs     -0.019081    0.001960     0.003129       -0.000414 -0.000522   \n",
              "total_runs      0.032546    0.006841     0.003714       -0.008371 -0.005499   \n",
              "\n",
              "                    over      ball  is_super_over  wide_runs  bye_runs  \\\n",
              "season          0.007613 -0.003230      -0.001636  -0.010530 -0.004096   \n",
              "dl_applied     -0.045707  0.001732      -0.002873   0.003718 -0.000664   \n",
              "win_by_runs     0.004167  0.001222      -0.012259  -0.000096  0.002361   \n",
              "win_by_wickets -0.038388 -0.001996      -0.020730   0.005834 -0.004959   \n",
              "inning         -0.050118 -0.003933       0.084158   0.001196 -0.000759   \n",
              "over            1.000000 -0.007428      -0.034333  -0.010015  0.012109   \n",
              "ball           -0.007428  1.000000      -0.001142  -0.004662  0.006603   \n",
              "is_super_over  -0.034333 -0.001142       1.000000  -0.001019  0.001353   \n",
              "wide_runs      -0.010015 -0.004662      -0.001019   1.000000 -0.006197   \n",
              "bye_runs        0.012109  0.006603       0.001353  -0.006197  1.000000   \n",
              "legbye_runs    -0.004817 -0.002794       0.001736  -0.015854 -0.004595   \n",
              "noball_runs     0.016981  0.000568       0.013640  -0.008676 -0.002515   \n",
              "penalty_runs   -0.000979  0.000711      -0.000071   0.012817 -0.000142   \n",
              "batsman_runs    0.086688  0.007949       0.010125  -0.094586 -0.018938   \n",
              "extra_runs     -0.002520 -0.002611       0.003504   0.720932  0.332359   \n",
              "total_runs      0.086304  0.007406       0.010890   0.059075  0.051946   \n",
              "\n",
              "                legbye_runs  noball_runs  penalty_runs  batsman_runs  \\\n",
              "season            -0.013175    -0.011434     -0.002428      0.036552   \n",
              "dl_applied        -0.000388    -0.001445     -0.000451      0.006411   \n",
              "win_by_runs        0.003097     0.003535     -0.001926      0.003041   \n",
              "win_by_wickets    -0.005176    -0.001299      0.004232     -0.008268   \n",
              "inning            -0.001972    -0.000906      0.003442     -0.005378   \n",
              "over              -0.004817     0.016981     -0.000979      0.086688   \n",
              "ball              -0.002794     0.000568      0.000711      0.007949   \n",
              "is_super_over      0.001736     0.013640     -0.000071      0.010125   \n",
              "wide_runs         -0.015854    -0.008676      0.012817     -0.094586   \n",
              "bye_runs          -0.004595    -0.002515     -0.000142     -0.018938   \n",
              "legbye_runs        1.000000    -0.006434     -0.000362     -0.070113   \n",
              "noball_runs       -0.006434     1.000000     -0.000198      0.004830   \n",
              "penalty_runs      -0.000362    -0.000198      1.000000     -0.002591   \n",
              "batsman_runs      -0.070113     0.004830     -0.002591      1.000000   \n",
              "extra_runs         0.554431     0.194903      0.057883     -0.114816   \n",
              "total_runs         0.048065     0.046426      0.009755      0.977278   \n",
              "\n",
              "                extra_runs  total_runs  \n",
              "season           -0.019081    0.032546  \n",
              "dl_applied        0.001960    0.006841  \n",
              "win_by_runs       0.003129    0.003714  \n",
              "win_by_wickets   -0.000414   -0.008371  \n",
              "inning           -0.000522   -0.005499  \n",
              "over             -0.002520    0.086304  \n",
              "ball             -0.002611    0.007406  \n",
              "is_super_over     0.003504    0.010890  \n",
              "wide_runs         0.720932    0.059075  \n",
              "bye_runs          0.332359    0.051946  \n",
              "legbye_runs       0.554431    0.048065  \n",
              "noball_runs       0.194903    0.046426  \n",
              "penalty_runs      0.057883    0.009755  \n",
              "batsman_runs     -0.114816    0.977278  \n",
              "extra_runs        1.000000    0.098355  \n",
              "total_runs        0.098355    1.000000  "
            ]
          },
          "metadata": {
            "tags": []
          },
          "execution_count": 24
        }
      ]
    },
    {
      "cell_type": "markdown",
      "metadata": {
        "id": "9g7g1Y5jQnYR"
      },
      "source": [
        "##### No.of matches played in each season"
      ]
    },
    {
      "cell_type": "code",
      "metadata": {
        "id": "wG8LRrIQQnYR",
        "outputId": "597b3e25-434b-4afa-e693-eaa682e4de65"
      },
      "source": [
        "matches.season.value_counts(normalize=True)"
      ],
      "execution_count": null,
      "outputs": [
        {
          "output_type": "execute_result",
          "data": {
            "text/plain": [
              "2013    0.100529\n",
              "2012    0.097884\n",
              "2011    0.096561\n",
              "2010    0.079365\n",
              "2014    0.079365\n",
              "2016    0.079365\n",
              "2018    0.079365\n",
              "2019    0.079365\n",
              "2015    0.078042\n",
              "2017    0.078042\n",
              "2008    0.076720\n",
              "2009    0.075397\n",
              "Name: season, dtype: float64"
            ]
          },
          "metadata": {
            "tags": []
          },
          "execution_count": 25
        }
      ]
    },
    {
      "cell_type": "code",
      "metadata": {
        "id": "cX7hv1lmQnYR",
        "outputId": "5d2e25e9-f09d-4070-8a67-f2d49631299c"
      },
      "source": [
        "plt.figure(figsize=(15,5))\n",
        "sns.countplot(x=matches['season'],data=matches)\n",
        "plt.xticks(rotation=90)\n",
        "plt.title(\"\\n No.of matches played in each season\")\n"
      ],
      "execution_count": null,
      "outputs": [
        {
          "output_type": "execute_result",
          "data": {
            "text/plain": [
              "Text(0.5, 1.0, '\\n No.of matches played in each season')"
            ]
          },
          "metadata": {
            "tags": []
          },
          "execution_count": 26
        },
        {
          "output_type": "display_data",
          "data": {
            "image/png": "[encoded data removed]",
            "text/plain": [
              "<Figure size 1080x360 with 1 Axes>"
            ]
          },
          "metadata": {
            "tags": [],
            "needs_background": "light"
          }
        }
      ]
    },
    {
      "cell_type": "markdown",
      "metadata": {
        "id": "ntAemYZaQnYS"
      },
      "source": [
        "- Season held in 2011,2012,2013 have more matches than other seasons"
      ]
    },
    {
      "cell_type": "markdown",
      "metadata": {
        "id": "flOuMAusQnYS"
      },
      "source": [
        "##### No.of matches played in each city"
      ]
    },
    {
      "cell_type": "code",
      "metadata": {
        "id": "f_NvYs6lQnYS",
        "outputId": "cba2e6eb-6643-49d0-a039-39b628a0b701"
      },
      "source": [
        "plt.figure(figsize=(20,5)) \n",
        "sns.countplot(x=matches['city'],data=matches)\n",
        "plt.xticks(rotation=90)\n",
        "plt.title(\"\\n No.of matches played in each city\")\n",
        "plt.grid()"
      ],
      "execution_count": null,
      "outputs": [
        {
          "output_type": "display_data",
          "data": {
            "image/png": "[encoded data removed]",
            "text/plain": [
              "<Figure size 1440x360 with 1 Axes>"
            ]
          },
          "metadata": {
            "tags": [],
            "needs_background": "light"
          }
        }
      ]
    },
    {
      "cell_type": "markdown",
      "metadata": {
        "id": "Y9KOO3GiQnYT"
      },
      "source": [
        "- Most of the matches were held in Mumbai followed by Kolkata,delhi and Banglore respectively"
      ]
    },
    {
      "cell_type": "markdown",
      "metadata": {
        "id": "L3YW8a71QnYT"
      },
      "source": [
        "##### No.of teams played in each season"
      ]
    },
    {
      "cell_type": "code",
      "metadata": {
        "id": "Jyr-P9xPQnYT",
        "outputId": "994ff256-ed83-4cb6-d9bc-b84f6500ab15"
      },
      "source": [
        "plt.figure(figsize=(15,5)) \n",
        "matches.groupby('season')['team1'].nunique().plot.bar(color='purple')\n",
        "plt.ylabel(\"Number of Team\")\n",
        "plt.title(\"Number of team played in each season\")\n",
        "plt.grid()"
      ],
      "execution_count": null,
      "outputs": [
        {
          "output_type": "display_data",
          "data": {
            "image/png": "[encoded data removed]",
            "text/plain": [
              "<Figure size 1080x360 with 1 Axes>"
            ]
          },
          "metadata": {
            "tags": [],
            "needs_background": "light"
          }
        }
      ]
    },
    {
      "cell_type": "markdown",
      "metadata": {
        "id": "S1qSK93IQnYU"
      },
      "source": [
        "- 10 teams played in season 2011\n",
        "- 9 teams played in season 2012 and 2013\n",
        "- 8 teams played in all other seasons\n"
      ]
    },
    {
      "cell_type": "markdown",
      "metadata": {
        "id": "oHORjRSiQnYU"
      },
      "source": [
        "##### Team with more Toss_win"
      ]
    },
    {
      "cell_type": "code",
      "metadata": {
        "id": "jO6DZ7FwQnYU",
        "outputId": "acd324a1-f545-4404-9ac1-26b603e9d91c"
      },
      "source": [
        "plt.figure(figsize=(20,5)) \n",
        "sns.countplot(x=matches['toss_winner'],data=matches,order=matches['toss_winner'].value_counts().index)\n",
        "plt.xticks(rotation=90)\n",
        "plt.title(\"\\n Team & Toss_win\",fontsize=15)\n"
      ],
      "execution_count": null,
      "outputs": [
        {
          "output_type": "execute_result",
          "data": {
            "text/plain": [
              "Text(0.5, 1.0, '\\n Team & Toss_win')"
            ]
          },
          "metadata": {
            "tags": []
          },
          "execution_count": 29
        },
        {
          "output_type": "display_data",
          "data": {
            "image/png": "[encoded data removed]",
            "text/plain": [
              "<Figure size 1440x360 with 1 Axes>"
            ]
          },
          "metadata": {
            "tags": [],
            "needs_background": "light"
          }
        }
      ]
    },
    {
      "cell_type": "markdown",
      "metadata": {
        "id": "HGgLgwK6QnYU"
      },
      "source": [
        "- from season(2008-19), Mumbai Indians has the highest toss_winning count"
      ]
    },
    {
      "cell_type": "markdown",
      "metadata": {
        "id": "ANA_6v54QnYU"
      },
      "source": [
        "##### Highest toss_winning team in each season"
      ]
    },
    {
      "cell_type": "code",
      "metadata": {
        "id": "WeVKjlVaQnYV",
        "outputId": "15bf13c5-5f94-40d1-eb07-0ee145afb836"
      },
      "source": [
        "toss_winning_teams = matches[['season','toss_winner']]\n",
        "toss_winner_team = {}\n",
        "for i in sorted(toss_winning_teams.season.unique()):\n",
        "    toss_winner_team[i]=toss_winning_teams[toss_winning_teams['season']==i]['toss_winner'].value_counts().index[0]\n",
        "    \n",
        "toss_winner_team  \n",
        "    "
      ],
      "execution_count": null,
      "outputs": [
        {
          "output_type": "execute_result",
          "data": {
            "text/plain": [
              "{2008: 'Rajasthan Royals',\n",
              " 2009: 'Deccan Chargers',\n",
              " 2010: 'Chennai Super Kings',\n",
              " 2011: 'Kings XI Punjab',\n",
              " 2012: 'Mumbai Indians',\n",
              " 2013: 'Kolkata Knight Riders',\n",
              " 2014: 'Chennai Super Kings',\n",
              " 2015: 'Chennai Super Kings',\n",
              " 2016: 'Sunrisers Hyderabad',\n",
              " 2017: 'Mumbai Indians',\n",
              " 2018: 'Chennai Super Kings',\n",
              " 2019: 'Chennai Super Kings'}"
            ]
          },
          "metadata": {
            "tags": []
          },
          "execution_count": 30
        }
      ]
    },
    {
      "cell_type": "code",
      "metadata": {
        "scrolled": true,
        "id": "Jsw51nwIQnYV",
        "outputId": "4b020dd7-3420-436c-95e7-432a2c05c04b"
      },
      "source": [
        "D = toss_winner_team \n",
        "plt.bar(range(len(D)),list(D.values()),color='brown')\n",
        "plt.xticks(range(len(D)),list(D.keys()),rotation=90)\n",
        "plt.title(\"Highest toss_winning team in each season\")\n",
        "plt.xlabel(\"Season\")\n",
        "plt.show()\n"
      ],
      "execution_count": null,
      "outputs": [
        {
          "output_type": "display_data",
          "data": {
            "image/png": "[encoded data removed]",
            "text/plain": [
              "<Figure size 432x288 with 1 Axes>"
            ]
          },
          "metadata": {
            "tags": [],
            "needs_background": "light"
          }
        }
      ]
    },
    {
      "cell_type": "markdown",
      "metadata": {
        "id": "XrRkVWgYQnYV"
      },
      "source": [
        "##### Toss Decision"
      ]
    },
    {
      "cell_type": "code",
      "metadata": {
        "id": "SJuJGqvOQnYV",
        "outputId": "d6352ffe-92ca-4543-916a-fe296afff8c8"
      },
      "source": [
        "matches.toss_decision.value_counts().plot.pie(autopct='%1.1f%%',figsize=(10,5),legend=True)\n"
      ],
      "execution_count": null,
      "outputs": [
        {
          "output_type": "execute_result",
          "data": {
            "text/plain": [
              "<AxesSubplot:ylabel='toss_decision'>"
            ]
          },
          "metadata": {
            "tags": []
          },
          "execution_count": 32
        },
        {
          "output_type": "display_data",
          "data": {
            "image/png": "[encoded data removed]",
            "text/plain": [
              "<Figure size 720x360 with 1 Axes>"
            ]
          },
          "metadata": {
            "tags": []
          }
        }
      ]
    },
    {
      "cell_type": "markdown",
      "metadata": {
        "id": "WKwpP-eEQnYV"
      },
      "source": [
        "- Most of the time, team chooses to field after winning toss"
      ]
    },
    {
      "cell_type": "markdown",
      "metadata": {
        "id": "LleexUDHQnYV"
      },
      "source": [
        "##### Individual team toss decision after winning toss"
      ]
    },
    {
      "cell_type": "code",
      "metadata": {
        "id": "8p1nrykiQnYW",
        "outputId": "fc537936-6066-49ad-9019-1c87ce71c1dc"
      },
      "source": [
        "plt.figure(figsize=(15,5)) \n",
        "sns.countplot(x=matches['toss_winner'],hue=matches.toss_decision,data=matches) \n",
        "plt.xticks(rotation=90)\n",
        "plt.title(\"\\n Individual team toss decision after winning toss\")\n"
      ],
      "execution_count": null,
      "outputs": [
        {
          "output_type": "execute_result",
          "data": {
            "text/plain": [
              "Text(0.5, 1.0, '\\n Individual team toss decision after winning toss')"
            ]
          },
          "metadata": {
            "tags": []
          },
          "execution_count": 33
        },
        {
          "output_type": "display_data",
          "data": {
            "image/png": "[encoded data removed]",
            "text/plain": [
              "<Figure size 1080x360 with 1 Axes>"
            ]
          },
          "metadata": {
            "tags": [],
            "needs_background": "light"
          }
        }
      ]
    },
    {
      "cell_type": "markdown",
      "metadata": {
        "id": "NPx1nbQ1QnYW"
      },
      "source": [
        "- Most teams choosed to field first after winning toss except ChennaiSuperKing,who had mostly choosed to bat first"
      ]
    },
    {
      "cell_type": "markdown",
      "metadata": {
        "id": "JaVheJ1NQnYW"
      },
      "source": [
        "##### Winner"
      ]
    },
    {
      "cell_type": "code",
      "metadata": {
        "id": "xLyiBgE7QnYW",
        "outputId": "4146ff99-5253-498b-be83-771ecbe14d33"
      },
      "source": [
        "plt.figure(figsize=(20,5)) \n",
        "sns.countplot(x=matches['winner'],data=matches,order=matches['winner'].value_counts().index)\n",
        "plt.xticks(rotation=90)\n",
        "plt.title(\"\\nWinning count of each team \",fontsize=15)"
      ],
      "execution_count": null,
      "outputs": [
        {
          "output_type": "execute_result",
          "data": {
            "text/plain": [
              "Text(0.5, 1.0, '\\nWinning count of each team ')"
            ]
          },
          "metadata": {
            "tags": []
          },
          "execution_count": 34
        },
        {
          "output_type": "display_data",
          "data": {
            "image/png": "[encoded data removed]",
            "text/plain": [
              "<Figure size 1440x360 with 1 Axes>"
            ]
          },
          "metadata": {
            "tags": [],
            "needs_background": "light"
          }
        }
      ]
    },
    {
      "cell_type": "markdown",
      "metadata": {
        "id": "P2aM8OxyQnYX"
      },
      "source": [
        "- Mumbai Indians has won most of the matches followed by ChennaiSuperKings and KolkataKnightRiders"
      ]
    },
    {
      "cell_type": "markdown",
      "metadata": {
        "id": "R5fYAg3FQnYX"
      },
      "source": [
        "#####  Winning team in each Season"
      ]
    },
    {
      "cell_type": "code",
      "metadata": {
        "id": "tys91NCyQnYX",
        "outputId": "21caa82d-d09a-4bd4-d09b-2e43fd5c0e28"
      },
      "source": [
        "winning_teams = matches[['season','winner']]\n",
        "winner_team = {}\n",
        "for i in sorted(winning_teams.season.unique()):\n",
        "    winner_team[i]=winning_teams[winning_teams['season']==i]['winner'].value_counts().index[0]\n",
        "    \n",
        "winner_team  \n",
        "    "
      ],
      "execution_count": null,
      "outputs": [
        {
          "output_type": "execute_result",
          "data": {
            "text/plain": [
              "{2008: 'Rajasthan Royals',\n",
              " 2009: 'Delhi Daredevils',\n",
              " 2010: 'Mumbai Indians',\n",
              " 2011: 'Chennai Super Kings',\n",
              " 2012: 'Kolkata Knight Riders',\n",
              " 2013: 'Mumbai Indians',\n",
              " 2014: 'Kings XI Punjab',\n",
              " 2015: 'Chennai Super Kings',\n",
              " 2016: 'Sunrisers Hyderabad',\n",
              " 2017: 'Mumbai Indians',\n",
              " 2018: 'Chennai Super Kings',\n",
              " 2019: 'Mumbai Indians'}"
            ]
          },
          "metadata": {
            "tags": []
          },
          "execution_count": 35
        }
      ]
    },
    {
      "cell_type": "code",
      "metadata": {
        "scrolled": true,
        "id": "wUglfJXwQnYX",
        "outputId": "ddc16724-54be-40e5-bfd3-37c968c45b7e"
      },
      "source": [
        "E = winner_team \n",
        "plt.figure(figsize=(10,5))\n",
        "plt.bar(range(len(E)),list(E.values()),color='brown')\n",
        "plt.xticks(range(len(E)),list(E.keys()),rotation=90)\n",
        "plt.title(\"Winning team in each Season\")\n",
        "plt.xlabel(\"Season\")\n",
        "plt.grid()\n",
        "plt.show()\n",
        "\n",
        "\n"
      ],
      "execution_count": null,
      "outputs": [
        {
          "output_type": "display_data",
          "data": {
            "image/png": "[encoded data removed]",
            "text/plain": [
              "<Figure size 720x360 with 1 Axes>"
            ]
          },
          "metadata": {
            "tags": [],
            "needs_background": "light"
          }
        }
      ]
    },
    {
      "cell_type": "markdown",
      "metadata": {
        "id": "QsUCUR-DQnYX"
      },
      "source": [
        "Season wise Winner : \n",
        "\n",
        "- 2008 : Rajasthan Royals\n",
        "- 2009 : Delhi Daredevils\n",
        "- (2010,2013,2015,2017,2019) : Mumbai Indians\n",
        "- (2011,2018 ): Chennai Super Kings\n",
        "- 2012 : Kolkata Knight Riders\n",
        "- 2014 : Kings XI Punjab\n",
        "- 2016 : Sunrisers Hyderabad\n"
      ]
    },
    {
      "cell_type": "markdown",
      "metadata": {
        "id": "4wp4PqN2QnYX"
      },
      "source": [
        "##### Toss_decision vs Winner"
      ]
    },
    {
      "cell_type": "code",
      "metadata": {
        "id": "fMWInE4kQnYY",
        "outputId": "c7cd886d-71b1-4568-aca0-9097a2cd0ec3"
      },
      "source": [
        "plt.figure(figsize=(15,5)) \n",
        "sns.countplot(x=matches['winner'],hue=matches.toss_decision,data=matches,order=matches['winner'].value_counts().index) \n",
        "plt.xticks(rotation=90)\n",
        "plt.title(\"\\nToss_decision vs Winner \")\n"
      ],
      "execution_count": null,
      "outputs": [
        {
          "output_type": "execute_result",
          "data": {
            "text/plain": [
              "Text(0.5, 1.0, '\\nToss_decision vs Winner ')"
            ]
          },
          "metadata": {
            "tags": []
          },
          "execution_count": 37
        },
        {
          "output_type": "display_data",
          "data": {
            "image/png": "[encoded data removed]",
            "text/plain": [
              "<Figure size 1080x360 with 1 Axes>"
            ]
          },
          "metadata": {
            "tags": [],
            "needs_background": "light"
          }
        }
      ]
    },
    {
      "cell_type": "markdown",
      "metadata": {
        "id": "CNN5r4lIQnYY"
      },
      "source": [
        "##### Toss_decision affecting winning"
      ]
    },
    {
      "cell_type": "code",
      "metadata": {
        "scrolled": false,
        "id": "uNZZ_lPuQnYY",
        "outputId": "a980ba1f-2225-4455-9c92-53561414c7bf"
      },
      "source": [
        "matches['tosswin_matchwin'] = np.where((matches.toss_winner == matches.winner),'Yes','No')\n",
        "plt.figure(figsize=(10,5)) \n",
        "sns.countplot(x=matches['tosswin_matchwin'],hue=matches.toss_decision,data=matches) \n",
        "plt.title(\"\\nToss_decision affects match result \")\n"
      ],
      "execution_count": null,
      "outputs": [
        {
          "output_type": "execute_result",
          "data": {
            "text/plain": [
              "Text(0.5, 1.0, '\\nToss_decision affects match result ')"
            ]
          },
          "metadata": {
            "tags": []
          },
          "execution_count": 38
        },
        {
          "output_type": "display_data",
          "data": {
            "image/png": "[encoded data removed]",
            "text/plain": [
              "<Figure size 720x360 with 1 Axes>"
            ]
          },
          "metadata": {
            "tags": [],
            "needs_background": "light"
          }
        }
      ]
    },
    {
      "cell_type": "markdown",
      "metadata": {
        "id": "vQKSYvaIQnYY"
      },
      "source": [
        "\n",
        "- Teams winning toss and opting to field first had won most of the time"
      ]
    },
    {
      "cell_type": "markdown",
      "metadata": {
        "id": "zoMc5XLFQnYY"
      },
      "source": [
        "##### Top Players with most player_of_match awards"
      ]
    },
    {
      "cell_type": "code",
      "metadata": {
        "scrolled": true,
        "id": "HJS-P6NoQnYY",
        "outputId": "67728af2-1b62-4eb8-b1c1-9a8e5961af89"
      },
      "source": [
        "plt.figure(figsize=(20,5)) \n",
        "sns.countplot(x=matches['player_of_match'],data=matches,order=matches['player_of_match'].value_counts().head(15).index)\n",
        "plt.xticks(rotation=90)\n",
        "plt.title(\"Top Players with most player_of_match awards\",fontsize=15)"
      ],
      "execution_count": null,
      "outputs": [
        {
          "output_type": "execute_result",
          "data": {
            "text/plain": [
              "Text(0.5, 1.0, 'Top Players with most player_of_match awards')"
            ]
          },
          "metadata": {
            "tags": []
          },
          "execution_count": 39
        },
        {
          "output_type": "display_data",
          "data": {
            "image/png": "[encoded data removed]",
            "text/plain": [
              "<Figure size 1440x360 with 1 Axes>"
            ]
          },
          "metadata": {
            "tags": [],
            "needs_background": "light"
          }
        }
      ]
    },
    {
      "cell_type": "markdown",
      "metadata": {
        "id": "5PnDDxwYQnYZ"
      },
      "source": [
        "CH Gayle had won maximum player_of_match awards"
      ]
    },
    {
      "cell_type": "markdown",
      "metadata": {
        "id": "n5sfK4uiQnYZ"
      },
      "source": [
        "##### Season wise Top player with most man_of_match awards"
      ]
    },
    {
      "cell_type": "code",
      "metadata": {
        "id": "8Lb2EWmQQnYZ",
        "outputId": "27b42d0c-46ab-4087-e12b-d14d49eef0f1"
      },
      "source": [
        "season_top_player = {}\n",
        "for i in sorted(matches.season.unique()):\n",
        "    season_top_player[i]= matches[matches.season==i]['player_of_match'].value_counts().index[0]\n",
        "\n",
        "season_top_player"
      ],
      "execution_count": null,
      "outputs": [
        {
          "output_type": "execute_result",
          "data": {
            "text/plain": [
              "{2008: 'SE Marsh',\n",
              " 2009: 'YK Pathan',\n",
              " 2010: 'SR Tendulkar',\n",
              " 2011: 'CH Gayle',\n",
              " 2012: 'CH Gayle',\n",
              " 2013: 'MEK Hussey',\n",
              " 2014: 'GJ Maxwell',\n",
              " 2015: 'DA Warner',\n",
              " 2016: 'V Kohli',\n",
              " 2017: 'NM Coulter-Nile',\n",
              " 2018: 'Rashid Khan',\n",
              " 2019: 'AD Russell'}"
            ]
          },
          "metadata": {
            "tags": []
          },
          "execution_count": 40
        }
      ]
    },
    {
      "cell_type": "code",
      "metadata": {
        "id": "L86WlhZ5QnYZ",
        "outputId": "b1da3f74-563a-4e1f-c0f2-7882abcdeb25"
      },
      "source": [
        "F = season_top_player\n",
        "plt.figure(figsize=(10,5))\n",
        "plt.bar(range(len(F)),list(F.values()))\n",
        "plt.xticks(range(len(F)),list(F.keys()),rotation=90)\n",
        "plt.title(\"Season wise Top player with most man_of_match awards\")\n",
        "plt.xlabel(\"Season\")\n",
        "plt.show()"
      ],
      "execution_count": null,
      "outputs": [
        {
          "output_type": "display_data",
          "data": {
            "image/png": "[encoded data removed]",
            "text/plain": [
              "<Figure size 720x360 with 1 Axes>"
            ]
          },
          "metadata": {
            "tags": [],
            "needs_background": "light"
          }
        }
      ]
    },
    {
      "cell_type": "markdown",
      "metadata": {
        "id": "3v_Qo41gQnYZ"
      },
      "source": [
        "##### Win_by_runs"
      ]
    },
    {
      "cell_type": "code",
      "metadata": {
        "id": "AosZmq8YQnYZ",
        "outputId": "2853a75d-93dd-4617-a856-67008b67933a"
      },
      "source": [
        "matches.win_by_runs.max()"
      ],
      "execution_count": null,
      "outputs": [
        {
          "output_type": "execute_result",
          "data": {
            "text/plain": [
              "146"
            ]
          },
          "metadata": {
            "tags": []
          },
          "execution_count": 42
        }
      ]
    },
    {
      "cell_type": "code",
      "metadata": {
        "id": "YuESagxgQnYZ",
        "outputId": "803d12e2-ac2a-4819-81a8-ba96f2b65377"
      },
      "source": [
        "#row information\n",
        "matches.iloc[matches.win_by_runs.idxmax()]"
      ],
      "execution_count": null,
      "outputs": [
        {
          "output_type": "execute_result",
          "data": {
            "text/plain": [
              "id                                44\n",
              "season                          2017\n",
              "city                           Delhi\n",
              "date                      2017-05-06\n",
              "team1                 Mumbai Indians\n",
              "team2               Delhi Daredevils\n",
              "toss_winner         Delhi Daredevils\n",
              "toss_decision                  field\n",
              "result                        normal\n",
              "dl_applied                         0\n",
              "winner                Mumbai Indians\n",
              "win_by_runs                      146\n",
              "win_by_wickets                     0\n",
              "player_of_match          LMP Simmons\n",
              "venue               Feroz Shah Kotla\n",
              "tosswin_matchwin                  No\n",
              "Name: 43, dtype: object"
            ]
          },
          "metadata": {
            "tags": []
          },
          "execution_count": 43
        }
      ]
    },
    {
      "cell_type": "markdown",
      "metadata": {
        "id": "TPiR2IvXQnYa"
      },
      "source": [
        "##### Win_by_wickets"
      ]
    },
    {
      "cell_type": "code",
      "metadata": {
        "id": "gxM5BnsZQnYa",
        "outputId": "7d6734cc-bb42-4744-c929-3057b7d34c24"
      },
      "source": [
        "matches.win_by_wickets.max()"
      ],
      "execution_count": null,
      "outputs": [
        {
          "output_type": "execute_result",
          "data": {
            "text/plain": [
              "10"
            ]
          },
          "metadata": {
            "tags": []
          },
          "execution_count": 44
        }
      ]
    },
    {
      "cell_type": "code",
      "metadata": {
        "id": "CnJbYNeQQnYa",
        "outputId": "a02d3807-705b-403d-bb8c-617856f03922"
      },
      "source": [
        "matches.iloc[matches.win_by_wickets.idxmax()]"
      ],
      "execution_count": null,
      "outputs": [
        {
          "output_type": "execute_result",
          "data": {
            "text/plain": [
              "id                                                       3\n",
              "season                                                2017\n",
              "city                                                Rajkot\n",
              "date                                            2017-04-07\n",
              "team1                                        Gujarat Lions\n",
              "team2                                Kolkata Knight Riders\n",
              "toss_winner                          Kolkata Knight Riders\n",
              "toss_decision                                        field\n",
              "result                                              normal\n",
              "dl_applied                                               0\n",
              "winner                               Kolkata Knight Riders\n",
              "win_by_runs                                              0\n",
              "win_by_wickets                                          10\n",
              "player_of_match                                    CA Lynn\n",
              "venue               Saurashtra Cricket Association Stadium\n",
              "tosswin_matchwin                                       Yes\n",
              "Name: 2, dtype: object"
            ]
          },
          "metadata": {
            "tags": []
          },
          "execution_count": 45
        }
      ]
    },
    {
      "cell_type": "markdown",
      "metadata": {
        "id": "Vixz2RpoQnYa"
      },
      "source": [
        "\n",
        "\n",
        "##### Merged dataset"
      ]
    },
    {
      "cell_type": "markdown",
      "metadata": {
        "id": "g2qxIgAmQnYa"
      },
      "source": [
        "##### Top 10 batsman in IPL"
      ]
    },
    {
      "cell_type": "code",
      "metadata": {
        "id": "8pcYrkmnQnYa",
        "outputId": "457c6aba-2f7b-495a-9610-1e5d56ede74c"
      },
      "source": [
        "df.groupby('batsman')['batsman_runs'].sum().sort_values(ascending=False).head(10).plot.bar(color='red',figsize=(10,5))\n",
        "plt.title(\"Top 10 batsman in IPL\")"
      ],
      "execution_count": null,
      "outputs": [
        {
          "output_type": "execute_result",
          "data": {
            "text/plain": [
              "Text(0.5, 1.0, 'Top 10 batsman in IPL')"
            ]
          },
          "metadata": {
            "tags": []
          },
          "execution_count": 46
        },
        {
          "output_type": "display_data",
          "data": {
            "image/png": "[encoded data removed]",
            "text/plain": [
              "<Figure size 720x360 with 1 Axes>"
            ]
          },
          "metadata": {
            "tags": [],
            "needs_background": "light"
          }
        }
      ]
    },
    {
      "cell_type": "markdown",
      "metadata": {
        "id": "aFrnYrvGQnYb"
      },
      "source": [
        "##### Season wise top batsman"
      ]
    },
    {
      "cell_type": "code",
      "metadata": {
        "id": "mi1sdo73QnYb",
        "outputId": "00e4b7a5-8f84-42cd-bc0f-58ce3b10645d"
      },
      "source": [
        "season_top_batsman = {}\n",
        "for i in sorted(df.season.unique()):\n",
        "    season_top_batsman[i]= df[df.season==i].groupby('batsman')['batsman_runs'].sum().index[0]\n",
        "\n",
        "season_top_batsman"
      ],
      "execution_count": null,
      "outputs": [
        {
          "output_type": "execute_result",
          "data": {
            "text/plain": [
              "{2008: 'A Chopra',\n",
              " 2009: 'A Chopra',\n",
              " 2010: 'A Kumble',\n",
              " 2011: 'A Mishra',\n",
              " 2012: 'A Ashish Reddy',\n",
              " 2013: 'A Ashish Reddy',\n",
              " 2014: 'A Mishra',\n",
              " 2015: 'A Ashish Reddy',\n",
              " 2016: 'A Ashish Reddy',\n",
              " 2017: 'A Choudhary',\n",
              " 2018: 'A Dananjaya',\n",
              " 2019: 'A Joseph'}"
            ]
          },
          "metadata": {
            "tags": []
          },
          "execution_count": 47
        }
      ]
    },
    {
      "cell_type": "markdown",
      "metadata": {
        "id": "xgmytAHrQnYb"
      },
      "source": [
        "##### Top 10 bowlers in IPL"
      ]
    },
    {
      "cell_type": "code",
      "metadata": {
        "id": "f3q-EwaYQnYb",
        "outputId": "c3d3a425-7ce5-4355-dc3b-6afa582b40b6"
      },
      "source": [
        "df.groupby('bowler')['player_dismissed'].count().sort_values(ascending = False).head(10).plot.bar(color='green',figsize=(10,5))\n",
        "plt.title(\"Top 10 bowlers in IPL\")"
      ],
      "execution_count": null,
      "outputs": [
        {
          "output_type": "execute_result",
          "data": {
            "text/plain": [
              "Text(0.5, 1.0, 'Top 10 bowlers in IPL')"
            ]
          },
          "metadata": {
            "tags": []
          },
          "execution_count": 48
        },
        {
          "output_type": "display_data",
          "data": {
            "image/png": "[encoded data removed]",
            "text/plain": [
              "<Figure size 720x360 with 1 Axes>"
            ]
          },
          "metadata": {
            "tags": [],
            "needs_background": "light"
          }
        }
      ]
    },
    {
      "cell_type": "markdown",
      "metadata": {
        "id": "0lrXdn58QnYb"
      },
      "source": [
        "- Malinga has taken most no.of wickets"
      ]
    },
    {
      "cell_type": "markdown",
      "metadata": {
        "id": "ncK80etSQnYb"
      },
      "source": [
        "##### Dismissal_kind"
      ]
    },
    {
      "cell_type": "code",
      "metadata": {
        "id": "4gCCRzuNQnYb",
        "outputId": "36167f6e-bb66-4d48-af11-d21dbffd86ae"
      },
      "source": [
        "plt.figure(figsize=(20,5)) \n",
        "sns.countplot(x=df['dismissal_kind'],data=df)\n",
        "plt.xticks(rotation=90)\n",
        "plt.title(\"\\n Types of dismissal\")\n"
      ],
      "execution_count": null,
      "outputs": [
        {
          "output_type": "execute_result",
          "data": {
            "text/plain": [
              "Text(0.5, 1.0, '\\n Types of dismissal')"
            ]
          },
          "metadata": {
            "tags": []
          },
          "execution_count": 49
        },
        {
          "output_type": "display_data",
          "data": {
            "image/png": "[encoded data removed]",
            "text/plain": [
              "<Figure size 1440x360 with 1 Axes>"
            ]
          },
          "metadata": {
            "tags": [],
            "needs_background": "light"
          }
        }
      ]
    },
    {
      "cell_type": "markdown",
      "metadata": {
        "id": "aSHGSqSbQnYc"
      },
      "source": [
        "- Caught is the most dismissal_kind"
      ]
    },
    {
      "cell_type": "markdown",
      "metadata": {
        "id": "8EngUvDQQnYc"
      },
      "source": [
        "##### Highest Total_runs in each season"
      ]
    },
    {
      "cell_type": "code",
      "metadata": {
        "id": "iYBuU3WWQnYc",
        "outputId": "dce3e1e7-4503-41c7-80b3-190b143dc5a7"
      },
      "source": [
        "df.groupby('season')['total_runs'].sum().plot.bar(figsize=(10,5))"
      ],
      "execution_count": null,
      "outputs": [
        {
          "output_type": "execute_result",
          "data": {
            "text/plain": [
              "<AxesSubplot:xlabel='season'>"
            ]
          },
          "metadata": {
            "tags": []
          },
          "execution_count": 50
        },
        {
          "output_type": "display_data",
          "data": {
            "image/png": "[encoded data removed]",
            "text/plain": [
              "<Figure size 720x360 with 1 Axes>"
            ]
          },
          "metadata": {
            "tags": [],
            "needs_background": "light"
          }
        }
      ]
    },
    {
      "cell_type": "markdown",
      "metadata": {
        "id": "ARhG7cxdQnYc"
      },
      "source": [
        "- season 2013 had scored highest total runs"
      ]
    },
    {
      "cell_type": "markdown",
      "metadata": {
        "id": "66RLF8RNQnYc"
      },
      "source": [
        "### Insights : "
      ]
    },
    {
      "cell_type": "markdown",
      "metadata": {
        "id": "fZCKXdHVQnYc"
      },
      "source": [
        "- Mumbai Indians is the most successful team, having won the maximum number of tosses as well as matches.\n",
        "\n",
        "- If the team who wins the toss, chooses to field first, then that team has the highest chance of winning the match.\n",
        "\n",
        "- Chris Gayle has won the title 'Player of Match' maximum number of times. \n",
        "\n",
        "- The top batsman in IPL are V Kohli,SK Raina, RG Sharma, DA Warner, S Dhawan, MS Dhoni,CH Gayle \n",
        "\n",
        "- The top wicket taking bowlers are  SL Malinga,DJ Bravo,A Mishra ,Harbhajan Singh, PP Chawla, B Kumar, R Ashwin"
      ]
    },
    {
      "cell_type": "code",
      "metadata": {
        "id": "n7zNrS_pQnYc"
      },
      "source": [
        ""
      ],
      "execution_count": null,
      "outputs": []
    }
  ]
}