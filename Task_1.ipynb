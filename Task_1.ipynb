{
  "nbformat": 4,
  "nbformat_minor": 0,
  "metadata": {
    "kernelspec": {
      "display_name": "Python 3",
      "language": "python",
      "name": "python3"
    },
    "language_info": {
      "codemirror_mode": {
        "name": "ipython",
        "version": 3
      },
      "file_extension": ".py",
      "mimetype": "text/x-python",
      "name": "python",
      "nbconvert_exporter": "python",
      "pygments_lexer": "ipython3",
      "version": "3.8.5"
    },
    "colab": {
      "name": "Task-1.ipynb",
      "provenance": [],
      "include_colab_link": true
    }
  },
  "cells": [
    {
      "cell_type": "markdown",
      "metadata": {
        "id": "view-in-github",
        "colab_type": "text"
      },
      "source": [
        "<a href=\"https://colab.research.google.com/github/saikumar28102000/THE-SPARK-FOUNDATION/blob/main/Task_1.ipynb\" target=\"_parent\"><img src=\"https://colab.research.google.com/assets/colab-badge.svg\" alt=\"Open In Colab\"/></a>"
      ]
    },
    {
      "cell_type": "markdown",
      "metadata": {
        "id": "7HnEyEmeOm9Q"
      },
      "source": [
        "## Data Science and Business Analytics Intern @ The Sparks Foundation\n",
        "\n",
        "#grip-march 21\n",
        " "
      ]
    },
    {
      "cell_type": "markdown",
      "metadata": {
        "id": "u92ClpcHOm9W"
      },
      "source": [
        "### Author: SAI KUMAR T S\n",
        "\n",
        " "
      ]
    },
    {
      "cell_type": "markdown",
      "metadata": {
        "id": "iSBzsbF9Om9W"
      },
      "source": [
        "\n",
        "### Task 1: Prediction using Supervised ML"
      ]
    },
    {
      "cell_type": "markdown",
      "metadata": {
        "id": "1tu0A1DrOm9X"
      },
      "source": [
        "#### #Linear Regression\n",
        " Problem Statement 1: Predict the percentage of a student based on the number of study hours\n",
        " \n",
        " Problem Statement 2: What will be predicted score if a student studies for 9.25 hrs/day?"
      ]
    },
    {
      "cell_type": "markdown",
      "metadata": {
        "id": "2G2T09s_Om9X"
      },
      "source": [
        "##### Data Import and Pre-processing"
      ]
    },
    {
      "cell_type": "code",
      "metadata": {
        "id": "zCiaosLvOm9X"
      },
      "source": [
        "# importing libraries\n",
        "import pandas as pd\n",
        "import numpy as np                     # For mathematical calculations\n",
        "import seaborn as sns                  # For data visualization\n",
        "import matplotlib.pyplot as plt        #For plotting graphs\n",
        "%matplotlib inline                    \n",
        "import warnings                        # To ignore any warnings\n",
        "warnings.filterwarnings(\"ignore\")"
      ],
      "execution_count": null,
      "outputs": []
    },
    {
      "cell_type": "code",
      "metadata": {
        "id": "Q7s-c_UxOm9Y",
        "outputId": "cbc869bd-52e6-4e1f-d35d-75b06c4125d7"
      },
      "source": [
        "# loading the data\n",
        "df=pd.read_csv('student.csv')\n",
        "df.head()"
      ],
      "execution_count": null,
      "outputs": [
        {
          "output_type": "execute_result",
          "data": {
            "text/html": [
              "<div>\n",
              "<style scoped>\n",
              "    .dataframe tbody tr th:only-of-type {\n",
              "        vertical-align: middle;\n",
              "    }\n",
              "\n",
              "    .dataframe tbody tr th {\n",
              "        vertical-align: top;\n",
              "    }\n",
              "\n",
              "    .dataframe thead th {\n",
              "        text-align: right;\n",
              "    }\n",
              "</style>\n",
              "<table border=\"1\" class=\"dataframe\">\n",
              "  <thead>\n",
              "    <tr style=\"text-align: right;\">\n",
              "      <th></th>\n",
              "      <th>Hours</th>\n",
              "      <th>Scores</th>\n",
              "    </tr>\n",
              "  </thead>\n",
              "  <tbody>\n",
              "    <tr>\n",
              "      <th>0</th>\n",
              "      <td>2.5</td>\n",
              "      <td>21</td>\n",
              "    </tr>\n",
              "    <tr>\n",
              "      <th>1</th>\n",
              "      <td>5.1</td>\n",
              "      <td>47</td>\n",
              "    </tr>\n",
              "    <tr>\n",
              "      <th>2</th>\n",
              "      <td>3.2</td>\n",
              "      <td>27</td>\n",
              "    </tr>\n",
              "    <tr>\n",
              "      <th>3</th>\n",
              "      <td>8.5</td>\n",
              "      <td>75</td>\n",
              "    </tr>\n",
              "    <tr>\n",
              "      <th>4</th>\n",
              "      <td>3.5</td>\n",
              "      <td>30</td>\n",
              "    </tr>\n",
              "  </tbody>\n",
              "</table>\n",
              "</div>"
            ],
            "text/plain": [
              "   Hours  Scores\n",
              "0    2.5      21\n",
              "1    5.1      47\n",
              "2    3.2      27\n",
              "3    8.5      75\n",
              "4    3.5      30"
            ]
          },
          "metadata": {
            "tags": []
          },
          "execution_count": 50
        }
      ]
    },
    {
      "cell_type": "code",
      "metadata": {
        "id": "wKBk6MCIOm9Y",
        "outputId": "3258f297-9619-4bbb-f9bc-9b92148a1feb"
      },
      "source": [
        "#To show total rows and columns\n",
        "df.shape"
      ],
      "execution_count": null,
      "outputs": [
        {
          "output_type": "execute_result",
          "data": {
            "text/plain": [
              "(25, 2)"
            ]
          },
          "metadata": {
            "tags": []
          },
          "execution_count": 51
        }
      ]
    },
    {
      "cell_type": "code",
      "metadata": {
        "id": "lC0FESbwOm9Z",
        "outputId": "2f40513c-7cd6-4b13-c53c-4dfd6bf4fece"
      },
      "source": [
        "# Data Types of Columns\n",
        "df.dtypes"
      ],
      "execution_count": null,
      "outputs": [
        {
          "output_type": "execute_result",
          "data": {
            "text/plain": [
              "Hours     float64\n",
              "Scores      int64\n",
              "dtype: object"
            ]
          },
          "metadata": {
            "tags": []
          },
          "execution_count": 52
        }
      ]
    },
    {
      "cell_type": "code",
      "metadata": {
        "id": "fCPoKCO4Om9Z",
        "outputId": "478b3812-73d8-4ef3-f5dd-f22f453f2cea"
      },
      "source": [
        "# To check any Null Values\n",
        "df.isnull().sum()"
      ],
      "execution_count": null,
      "outputs": [
        {
          "output_type": "execute_result",
          "data": {
            "text/plain": [
              "Hours     0\n",
              "Scores    0\n",
              "dtype: int64"
            ]
          },
          "metadata": {
            "tags": []
          },
          "execution_count": 53
        }
      ]
    },
    {
      "cell_type": "code",
      "metadata": {
        "id": "Ixamldf3Om9Z",
        "outputId": "a5c57bdb-3a25-46d8-b819-eadb21f57442"
      },
      "source": [
        "# To check any duplicate rows\n",
        "df.duplicated().sum()"
      ],
      "execution_count": null,
      "outputs": [
        {
          "output_type": "execute_result",
          "data": {
            "text/plain": [
              "0"
            ]
          },
          "metadata": {
            "tags": []
          },
          "execution_count": 54
        }
      ]
    },
    {
      "cell_type": "markdown",
      "metadata": {
        "id": "aNxq-kqLOm9a"
      },
      "source": [
        "### Basic Statistical Details"
      ]
    },
    {
      "cell_type": "code",
      "metadata": {
        "id": "S09da31VOm9a",
        "outputId": "e26c68d3-3f37-4f49-dade-3e515a918818"
      },
      "source": [
        "# Statistical Details\n",
        "df .describe()"
      ],
      "execution_count": null,
      "outputs": [
        {
          "output_type": "execute_result",
          "data": {
            "text/html": [
              "<div>\n",
              "<style scoped>\n",
              "    .dataframe tbody tr th:only-of-type {\n",
              "        vertical-align: middle;\n",
              "    }\n",
              "\n",
              "    .dataframe tbody tr th {\n",
              "        vertical-align: top;\n",
              "    }\n",
              "\n",
              "    .dataframe thead th {\n",
              "        text-align: right;\n",
              "    }\n",
              "</style>\n",
              "<table border=\"1\" class=\"dataframe\">\n",
              "  <thead>\n",
              "    <tr style=\"text-align: right;\">\n",
              "      <th></th>\n",
              "      <th>Hours</th>\n",
              "      <th>Scores</th>\n",
              "    </tr>\n",
              "  </thead>\n",
              "  <tbody>\n",
              "    <tr>\n",
              "      <th>count</th>\n",
              "      <td>25.000000</td>\n",
              "      <td>25.000000</td>\n",
              "    </tr>\n",
              "    <tr>\n",
              "      <th>mean</th>\n",
              "      <td>5.012000</td>\n",
              "      <td>51.480000</td>\n",
              "    </tr>\n",
              "    <tr>\n",
              "      <th>std</th>\n",
              "      <td>2.525094</td>\n",
              "      <td>25.286887</td>\n",
              "    </tr>\n",
              "    <tr>\n",
              "      <th>min</th>\n",
              "      <td>1.100000</td>\n",
              "      <td>17.000000</td>\n",
              "    </tr>\n",
              "    <tr>\n",
              "      <th>25%</th>\n",
              "      <td>2.700000</td>\n",
              "      <td>30.000000</td>\n",
              "    </tr>\n",
              "    <tr>\n",
              "      <th>50%</th>\n",
              "      <td>4.800000</td>\n",
              "      <td>47.000000</td>\n",
              "    </tr>\n",
              "    <tr>\n",
              "      <th>75%</th>\n",
              "      <td>7.400000</td>\n",
              "      <td>75.000000</td>\n",
              "    </tr>\n",
              "    <tr>\n",
              "      <th>max</th>\n",
              "      <td>9.200000</td>\n",
              "      <td>95.000000</td>\n",
              "    </tr>\n",
              "  </tbody>\n",
              "</table>\n",
              "</div>"
            ],
            "text/plain": [
              "           Hours     Scores\n",
              "count  25.000000  25.000000\n",
              "mean    5.012000  51.480000\n",
              "std     2.525094  25.286887\n",
              "min     1.100000  17.000000\n",
              "25%     2.700000  30.000000\n",
              "50%     4.800000  47.000000\n",
              "75%     7.400000  75.000000\n",
              "max     9.200000  95.000000"
            ]
          },
          "metadata": {
            "tags": []
          },
          "execution_count": 55
        }
      ]
    },
    {
      "cell_type": "markdown",
      "metadata": {
        "id": "PRSWf8bVOm9a"
      },
      "source": [
        "   ### Data Visualization"
      ]
    },
    {
      "cell_type": "code",
      "metadata": {
        "id": "rM_qGhQUOm9a",
        "outputId": "631b2541-6250-44e0-c2fc-7e303d293eae"
      },
      "source": [
        "plt.figure(figsize=(15,3))\n",
        "\n",
        "plt.subplot(121)\n",
        "sns.distplot(df.Hours);\n",
        "\n",
        "plt.subplot(122)\n",
        "sns.distplot(df.Scores);\n",
        "\n",
        "\n",
        "plt.show()"
      ],
      "execution_count": null,
      "outputs": [
        {
          "output_type": "display_data",
          "data": {
            "image/png": "[encoded data removed]",
            "text/plain": [
              "<Figure size 1080x216 with 2 Axes>"
            ]
          },
          "metadata": {
            "tags": [],
            "needs_background": "light"
          }
        }
      ]
    },
    {
      "cell_type": "code",
      "metadata": {
        "id": "Rp1LA3IyOm9b",
        "outputId": "9993c0e6-3ec8-4836-b7c6-85eb6cb3bc35"
      },
      "source": [
        "#visualizing the dataset by pairplot\n",
        "sns.pairplot(df)"
      ],
      "execution_count": null,
      "outputs": [
        {
          "output_type": "execute_result",
          "data": {
            "text/plain": [
              "<seaborn.axisgrid.PairGrid at 0x1a987daf0d0>"
            ]
          },
          "metadata": {
            "tags": []
          },
          "execution_count": 57
        },
        {
          "output_type": "display_data",
          "data": {
            "image/png": "[encoded data removed]",
            "text/plain": [
              "<Figure size 360x360 with 6 Axes>"
            ]
          },
          "metadata": {
            "tags": [],
            "needs_background": "light"
          }
        }
      ]
    },
    {
      "cell_type": "markdown",
      "metadata": {
        "id": "8637qmHjOm9b"
      },
      "source": [
        "#### The graph shows a linear relationship between the number of hours studied and the scores achieved"
      ]
    },
    {
      "cell_type": "code",
      "metadata": {
        "id": "zxq_tq_NOm9b",
        "outputId": "506d6a2c-6828-440d-f152-e7b74f57c598"
      },
      "source": [
        "# To see the correlation between the variables\n",
        "df.corr()"
      ],
      "execution_count": null,
      "outputs": [
        {
          "output_type": "execute_result",
          "data": {
            "text/html": [
              "<div>\n",
              "<style scoped>\n",
              "    .dataframe tbody tr th:only-of-type {\n",
              "        vertical-align: middle;\n",
              "    }\n",
              "\n",
              "    .dataframe tbody tr th {\n",
              "        vertical-align: top;\n",
              "    }\n",
              "\n",
              "    .dataframe thead th {\n",
              "        text-align: right;\n",
              "    }\n",
              "</style>\n",
              "<table border=\"1\" class=\"dataframe\">\n",
              "  <thead>\n",
              "    <tr style=\"text-align: right;\">\n",
              "      <th></th>\n",
              "      <th>Hours</th>\n",
              "      <th>Scores</th>\n",
              "    </tr>\n",
              "  </thead>\n",
              "  <tbody>\n",
              "    <tr>\n",
              "      <th>Hours</th>\n",
              "      <td>1.000000</td>\n",
              "      <td>0.976191</td>\n",
              "    </tr>\n",
              "    <tr>\n",
              "      <th>Scores</th>\n",
              "      <td>0.976191</td>\n",
              "      <td>1.000000</td>\n",
              "    </tr>\n",
              "  </tbody>\n",
              "</table>\n",
              "</div>"
            ],
            "text/plain": [
              "           Hours    Scores\n",
              "Hours   1.000000  0.976191\n",
              "Scores  0.976191  1.000000"
            ]
          },
          "metadata": {
            "tags": []
          },
          "execution_count": 58
        }
      ]
    },
    {
      "cell_type": "code",
      "metadata": {
        "id": "qPhUMJp6Om9b",
        "outputId": "f597bf97-ed07-4967-d392-29dfedb9a3ec"
      },
      "source": [
        "# Heatmap to see the correlatio\n",
        "sns.heatmap(df.corr(),annot=True)"
      ],
      "execution_count": null,
      "outputs": [
        {
          "output_type": "execute_result",
          "data": {
            "text/plain": [
              "<AxesSubplot:>"
            ]
          },
          "metadata": {
            "tags": []
          },
          "execution_count": 59
        },
        {
          "output_type": "display_data",
          "data": {
            "image/png": "[encoded data removed]",
            "text/plain": [
              "<Figure size 432x288 with 2 Axes>"
            ]
          },
          "metadata": {
            "tags": [],
            "needs_background": "light"
          }
        }
      ]
    },
    {
      "cell_type": "markdown",
      "metadata": {
        "id": "mwINlhU0Om9c"
      },
      "source": [
        "#### Scores and Hours have high +ve correlation\n",
        "They are highly dependent to each other"
      ]
    },
    {
      "cell_type": "code",
      "metadata": {
        "id": "jJhJn5eDOm9c",
        "outputId": "81b55272-2341-43db-ea8d-353e1e16ab5a"
      },
      "source": [
        "# Regressive Plotting between Hours and Scores\n",
        "sns.regplot(df.Hours,df.Scores,data=df)\n",
        "plt.title(\"Hours vs Scores\")\n",
        "plt.show()"
      ],
      "execution_count": null,
      "outputs": [
        {
          "output_type": "display_data",
          "data": {
            "image/png": "[encoded data removed]",
            "text/plain": [
              "<Figure size 432x288 with 1 Axes>"
            ]
          },
          "metadata": {
            "tags": [],
            "needs_background": "light"
          }
        }
      ]
    },
    {
      "cell_type": "markdown",
      "metadata": {
        "id": "SUs50fqBOm9c"
      },
      "source": [
        "This graph also shows a +ve linear relationship"
      ]
    },
    {
      "cell_type": "markdown",
      "metadata": {
        "id": "90KrI4SOOm9c"
      },
      "source": [
        "### Model Development and Evaluation"
      ]
    },
    {
      "cell_type": "markdown",
      "metadata": {
        "id": "6FnUgTzpOm9c"
      },
      "source": [
        "##### Data Preparation"
      ]
    },
    {
      "cell_type": "code",
      "metadata": {
        "id": "K63X4T-LOm9c"
      },
      "source": [
        "# separate independent and dependent var\n",
        "x = df.iloc[:,:-1].values\n",
        "y = df.iloc[:,1].values"
      ],
      "execution_count": null,
      "outputs": []
    },
    {
      "cell_type": "code",
      "metadata": {
        "id": "5Oumad6mOm9d"
      },
      "source": [
        "# import library\n",
        "from sklearn.model_selection import train_test_split"
      ],
      "execution_count": null,
      "outputs": []
    },
    {
      "cell_type": "code",
      "metadata": {
        "id": "8l19Om5YOm9d"
      },
      "source": [
        " #split the data into train and test set\n",
        "x_train, x_test, y_train, y_test = train_test_split(x, y, train_size=0.8, test_size=0.2, random_state=0) "
      ],
      "execution_count": null,
      "outputs": []
    },
    {
      "cell_type": "markdown",
      "metadata": {
        "id": "Om4rq-ySOm9d"
      },
      "source": [
        "##### Training Algorithm"
      ]
    },
    {
      "cell_type": "code",
      "metadata": {
        "id": "d5bxuKlQOm9d"
      },
      "source": [
        "# import libraries\n",
        "from sklearn.linear_model import LinearRegression"
      ],
      "execution_count": null,
      "outputs": []
    },
    {
      "cell_type": "code",
      "metadata": {
        "id": "AaJS1LKdOm9d",
        "outputId": "bcc6a5c6-45c1-4160-c994-4f6cd36cd53e"
      },
      "source": [
        "#Linear Regresion\n",
        "reg = LinearRegression()\n",
        "reg.fit(x_train,y_train)"
      ],
      "execution_count": null,
      "outputs": [
        {
          "output_type": "execute_result",
          "data": {
            "text/plain": [
              "LinearRegression()"
            ]
          },
          "metadata": {
            "tags": []
          },
          "execution_count": 65
        }
      ]
    },
    {
      "cell_type": "code",
      "metadata": {
        "id": "c0q5BaEIOm9e",
        "outputId": "35e10f8f-4b96-4afe-b797-061ebe45a3e4"
      },
      "source": [
        "#Prediction\n",
        "y_pred = reg.predict(x_test)\n",
        "print(y_pred)"
      ],
      "execution_count": null,
      "outputs": [
        {
          "output_type": "stream",
          "text": [
            "[16.88414476 33.73226078 75.357018   26.79480124 60.49103328]\n"
          ],
          "name": "stdout"
        }
      ]
    },
    {
      "cell_type": "code",
      "metadata": {
        "id": "xSeOw2f_Om9e",
        "outputId": "94c825d1-9cf2-4ab6-c3fb-bd35ad532012"
      },
      "source": [
        "#comparing Actual data vs Predicted data\n",
        "comp_df = pd.DataFrame({\"Actual_data\":y_test,\"Predicted_data\":y_pred})\n",
        "comp_df"
      ],
      "execution_count": null,
      "outputs": [
        {
          "output_type": "execute_result",
          "data": {
            "text/html": [
              "<div>\n",
              "<style scoped>\n",
              "    .dataframe tbody tr th:only-of-type {\n",
              "        vertical-align: middle;\n",
              "    }\n",
              "\n",
              "    .dataframe tbody tr th {\n",
              "        vertical-align: top;\n",
              "    }\n",
              "\n",
              "    .dataframe thead th {\n",
              "        text-align: right;\n",
              "    }\n",
              "</style>\n",
              "<table border=\"1\" class=\"dataframe\">\n",
              "  <thead>\n",
              "    <tr style=\"text-align: right;\">\n",
              "      <th></th>\n",
              "      <th>Actual_data</th>\n",
              "      <th>Predicted_data</th>\n",
              "    </tr>\n",
              "  </thead>\n",
              "  <tbody>\n",
              "    <tr>\n",
              "      <th>0</th>\n",
              "      <td>20</td>\n",
              "      <td>16.884145</td>\n",
              "    </tr>\n",
              "    <tr>\n",
              "      <th>1</th>\n",
              "      <td>27</td>\n",
              "      <td>33.732261</td>\n",
              "    </tr>\n",
              "    <tr>\n",
              "      <th>2</th>\n",
              "      <td>69</td>\n",
              "      <td>75.357018</td>\n",
              "    </tr>\n",
              "    <tr>\n",
              "      <th>3</th>\n",
              "      <td>30</td>\n",
              "      <td>26.794801</td>\n",
              "    </tr>\n",
              "    <tr>\n",
              "      <th>4</th>\n",
              "      <td>62</td>\n",
              "      <td>60.491033</td>\n",
              "    </tr>\n",
              "  </tbody>\n",
              "</table>\n",
              "</div>"
            ],
            "text/plain": [
              "   Actual_data  Predicted_data\n",
              "0           20       16.884145\n",
              "1           27       33.732261\n",
              "2           69       75.357018\n",
              "3           30       26.794801\n",
              "4           62       60.491033"
            ]
          },
          "metadata": {
            "tags": []
          },
          "execution_count": 67
        }
      ]
    },
    {
      "cell_type": "code",
      "metadata": {
        "id": "bgHPki1tOm9e",
        "outputId": "de922bb3-1f01-4de8-d2c9-23243e7ff7cc"
      },
      "source": [
        "#visualization of training set\n",
        "plt.xlabel('Hours')\n",
        "plt.ylabel('Scores')\n",
        "plt.title(\"Hours vs Scores in training dataset\")\n",
        "plt.scatter(x_train,y_train)\n",
        "plt.plot(x_train,reg.predict(x_train),color='red')\n"
      ],
      "execution_count": null,
      "outputs": [
        {
          "output_type": "execute_result",
          "data": {
            "text/plain": [
              "[<matplotlib.lines.Line2D at 0x1a98944bcd0>]"
            ]
          },
          "metadata": {
            "tags": []
          },
          "execution_count": 68
        },
        {
          "output_type": "display_data",
          "data": {
            "image/png": "[encoded data removed]",
            "text/plain": [
              "<Figure size 432x288 with 1 Axes>"
            ]
          },
          "metadata": {
            "tags": [],
            "needs_background": "light"
          }
        }
      ]
    },
    {
      "cell_type": "code",
      "metadata": {
        "id": "KnARH_wbOm9e",
        "outputId": "3eaa9922-43b4-463c-912f-26b772f2e6fc"
      },
      "source": [
        "#visualization of test set\n",
        "plt.xlabel('Hours')\n",
        "plt.ylabel('Scores')\n",
        "plt.title(\"Hours vs Scores in test dataset\")\n",
        "plt.scatter(x_test,y_test)\n",
        "plt.plot(x_test,y_pred,color='red')"
      ],
      "execution_count": null,
      "outputs": [
        {
          "output_type": "execute_result",
          "data": {
            "text/plain": [
              "[<matplotlib.lines.Line2D at 0x1a9894a3f40>]"
            ]
          },
          "metadata": {
            "tags": []
          },
          "execution_count": 69
        },
        {
          "output_type": "display_data",
          "data": {
            "image/png": "[encoded data removed]",
            "text/plain": [
              "<Figure size 432x288 with 1 Axes>"
            ]
          },
          "metadata": {
            "tags": [],
            "needs_background": "light"
          }
        }
      ]
    },
    {
      "cell_type": "markdown",
      "metadata": {
        "id": "WiTVHu8IOm9e"
      },
      "source": [
        "##### Coefficient and Intercept"
      ]
    },
    {
      "cell_type": "code",
      "metadata": {
        "id": "0vS9FdtyOm9f",
        "outputId": "88ce03dc-7680-45e9-c7a8-eb99d2342254"
      },
      "source": [
        "print(\"Coefficient : \", reg.coef_)\n",
        "\n",
        "print(\"Intercept : \", reg.intercept_)"
      ],
      "execution_count": null,
      "outputs": [
        {
          "output_type": "stream",
          "text": [
            "Coefficient :  [9.91065648]\n",
            "Intercept :  2.018160041434683\n"
          ],
          "name": "stdout"
        }
      ]
    },
    {
      "cell_type": "markdown",
      "metadata": {
        "id": "UlL0DNqTOm9f"
      },
      "source": [
        "##### Evaluating the Model"
      ]
    },
    {
      "cell_type": "code",
      "metadata": {
        "id": "6wRzjqsCOm9f",
        "outputId": "268383d7-a44a-4ae7-a854-c4c1077b9077"
      },
      "source": [
        "from sklearn import metrics\n",
        "\n",
        "print(\"Mean Absolute Error : \",metrics.mean_absolute_error(y_test,y_pred))\n",
        "\n",
        "print(\"\\nMean Squared Error : \",metrics.mean_squared_error(y_test,y_pred))\n",
        "\n",
        "print(\"\\nRoot Mean Squared Error : \", np.sqrt(metrics.mean_squared_error(y_test,y_pred)))\n",
        "\n",
        "print(\"\\nR-2 : \",metrics.r2_score(y_test,y_pred))\n",
        "\n"
      ],
      "execution_count": null,
      "outputs": [
        {
          "output_type": "stream",
          "text": [
            "Mean Absolute Error :  4.183859899002975\n",
            "\n",
            "Mean Squared Error :  21.5987693072174\n",
            "\n",
            "Root Mean Squared Error :  4.6474476121003665\n",
            "\n",
            "R-2 :  0.9454906892105356\n"
          ],
          "name": "stdout"
        }
      ]
    },
    {
      "cell_type": "markdown",
      "metadata": {
        "id": "te3NjJhrOm9f"
      },
      "source": [
        "R-squared value is 94.55%. \n",
        "This implies that the algorithm has proven to be good for the given data"
      ]
    },
    {
      "cell_type": "markdown",
      "metadata": {
        "id": "F7HwMqyhOm9f"
      },
      "source": [
        "##### Sample Question:\n",
        "    \n",
        "What will be predicted score if a student studies for 9.25 hrs/day?"
      ]
    },
    {
      "cell_type": "code",
      "metadata": {
        "id": "4W1I3q-kOm9g",
        "outputId": "9a109cd5-66ba-4364-f0c9-a79834ee43f4"
      },
      "source": [
        "hours = 9.25\n",
        "print(\"no.of hours = \",hours)\n",
        "pred_score = reg.predict([[hours]])\n",
        "print(\"Predicted Score = \", pred_score[0])\n"
      ],
      "execution_count": null,
      "outputs": [
        {
          "output_type": "stream",
          "text": [
            "no.of hours =  9.25\n",
            "Predicted Score =  93.69173248737538\n"
          ],
          "name": "stdout"
        }
      ]
    },
    {
      "cell_type": "markdown",
      "metadata": {
        "id": "HBD56crdOm9g"
      },
      "source": [
        "### Conclusion"
      ]
    },
    {
      "cell_type": "markdown",
      "metadata": {
        "id": "Raeq7BYBOm9g"
      },
      "source": [
        "-The hours studied and the scores have high +ve correlation.\n",
        "\n",
        "-It is evident from the regplot that they have a +ve linear relatiopnship\n",
        "\n",
        "- If a student studies for 9.25hrs/day, the student would likely to get around 93.69%"
      ]
    }
  ]
}
